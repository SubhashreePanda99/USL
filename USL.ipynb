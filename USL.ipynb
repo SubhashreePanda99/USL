{
 "cells": [
  {
   "cell_type": "code",
   "execution_count": 1,
   "metadata": {},
   "outputs": [],
   "source": [
    "import numpy as np\n",
    "import pandas as pd\n",
    "import matplotlib.pyplot as plt\n",
    "import seaborn as sns"
   ]
  },
  {
   "cell_type": "code",
   "execution_count": 5,
   "metadata": {},
   "outputs": [],
   "source": [
    "df=pd.read_csv('turkiye-student-evaluation_generic+(1).csv')"
   ]
  },
  {
   "cell_type": "code",
   "execution_count": 6,
   "metadata": {},
   "outputs": [
    {
     "data": {
      "text/html": [
       "<div>\n",
       "<style scoped>\n",
       "    .dataframe tbody tr th:only-of-type {\n",
       "        vertical-align: middle;\n",
       "    }\n",
       "\n",
       "    .dataframe tbody tr th {\n",
       "        vertical-align: top;\n",
       "    }\n",
       "\n",
       "    .dataframe thead th {\n",
       "        text-align: right;\n",
       "    }\n",
       "</style>\n",
       "<table border=\"1\" class=\"dataframe\">\n",
       "  <thead>\n",
       "    <tr style=\"text-align: right;\">\n",
       "      <th></th>\n",
       "      <th>instr</th>\n",
       "      <th>class</th>\n",
       "      <th>nb.repeat</th>\n",
       "      <th>attendance</th>\n",
       "      <th>difficulty</th>\n",
       "      <th>Q1</th>\n",
       "      <th>Q2</th>\n",
       "      <th>Q3</th>\n",
       "      <th>Q4</th>\n",
       "      <th>Q5</th>\n",
       "      <th>...</th>\n",
       "      <th>Q19</th>\n",
       "      <th>Q20</th>\n",
       "      <th>Q21</th>\n",
       "      <th>Q22</th>\n",
       "      <th>Q23</th>\n",
       "      <th>Q24</th>\n",
       "      <th>Q25</th>\n",
       "      <th>Q26</th>\n",
       "      <th>Q27</th>\n",
       "      <th>Q28</th>\n",
       "    </tr>\n",
       "  </thead>\n",
       "  <tbody>\n",
       "    <tr>\n",
       "      <th>0</th>\n",
       "      <td>1</td>\n",
       "      <td>2</td>\n",
       "      <td>1</td>\n",
       "      <td>0</td>\n",
       "      <td>4</td>\n",
       "      <td>3</td>\n",
       "      <td>3</td>\n",
       "      <td>3</td>\n",
       "      <td>3</td>\n",
       "      <td>3</td>\n",
       "      <td>...</td>\n",
       "      <td>3</td>\n",
       "      <td>3</td>\n",
       "      <td>3</td>\n",
       "      <td>3</td>\n",
       "      <td>3</td>\n",
       "      <td>3</td>\n",
       "      <td>3</td>\n",
       "      <td>3</td>\n",
       "      <td>3</td>\n",
       "      <td>3</td>\n",
       "    </tr>\n",
       "    <tr>\n",
       "      <th>1</th>\n",
       "      <td>1</td>\n",
       "      <td>2</td>\n",
       "      <td>1</td>\n",
       "      <td>1</td>\n",
       "      <td>3</td>\n",
       "      <td>3</td>\n",
       "      <td>3</td>\n",
       "      <td>3</td>\n",
       "      <td>3</td>\n",
       "      <td>3</td>\n",
       "      <td>...</td>\n",
       "      <td>3</td>\n",
       "      <td>3</td>\n",
       "      <td>3</td>\n",
       "      <td>3</td>\n",
       "      <td>3</td>\n",
       "      <td>3</td>\n",
       "      <td>3</td>\n",
       "      <td>3</td>\n",
       "      <td>3</td>\n",
       "      <td>3</td>\n",
       "    </tr>\n",
       "    <tr>\n",
       "      <th>2</th>\n",
       "      <td>1</td>\n",
       "      <td>2</td>\n",
       "      <td>1</td>\n",
       "      <td>2</td>\n",
       "      <td>4</td>\n",
       "      <td>5</td>\n",
       "      <td>5</td>\n",
       "      <td>5</td>\n",
       "      <td>5</td>\n",
       "      <td>5</td>\n",
       "      <td>...</td>\n",
       "      <td>5</td>\n",
       "      <td>5</td>\n",
       "      <td>5</td>\n",
       "      <td>5</td>\n",
       "      <td>5</td>\n",
       "      <td>5</td>\n",
       "      <td>5</td>\n",
       "      <td>5</td>\n",
       "      <td>5</td>\n",
       "      <td>5</td>\n",
       "    </tr>\n",
       "    <tr>\n",
       "      <th>3</th>\n",
       "      <td>1</td>\n",
       "      <td>2</td>\n",
       "      <td>1</td>\n",
       "      <td>1</td>\n",
       "      <td>3</td>\n",
       "      <td>3</td>\n",
       "      <td>3</td>\n",
       "      <td>3</td>\n",
       "      <td>3</td>\n",
       "      <td>3</td>\n",
       "      <td>...</td>\n",
       "      <td>3</td>\n",
       "      <td>3</td>\n",
       "      <td>3</td>\n",
       "      <td>3</td>\n",
       "      <td>3</td>\n",
       "      <td>3</td>\n",
       "      <td>3</td>\n",
       "      <td>3</td>\n",
       "      <td>3</td>\n",
       "      <td>3</td>\n",
       "    </tr>\n",
       "    <tr>\n",
       "      <th>4</th>\n",
       "      <td>1</td>\n",
       "      <td>2</td>\n",
       "      <td>1</td>\n",
       "      <td>0</td>\n",
       "      <td>1</td>\n",
       "      <td>1</td>\n",
       "      <td>1</td>\n",
       "      <td>1</td>\n",
       "      <td>1</td>\n",
       "      <td>1</td>\n",
       "      <td>...</td>\n",
       "      <td>1</td>\n",
       "      <td>1</td>\n",
       "      <td>1</td>\n",
       "      <td>1</td>\n",
       "      <td>1</td>\n",
       "      <td>1</td>\n",
       "      <td>1</td>\n",
       "      <td>1</td>\n",
       "      <td>1</td>\n",
       "      <td>1</td>\n",
       "    </tr>\n",
       "  </tbody>\n",
       "</table>\n",
       "<p>5 rows × 33 columns</p>\n",
       "</div>"
      ],
      "text/plain": [
       "   instr  class  nb.repeat  attendance  difficulty  Q1  Q2  Q3  Q4  Q5  ...  \\\n",
       "0      1      2          1           0           4   3   3   3   3   3  ...   \n",
       "1      1      2          1           1           3   3   3   3   3   3  ...   \n",
       "2      1      2          1           2           4   5   5   5   5   5  ...   \n",
       "3      1      2          1           1           3   3   3   3   3   3  ...   \n",
       "4      1      2          1           0           1   1   1   1   1   1  ...   \n",
       "\n",
       "   Q19  Q20  Q21  Q22  Q23  Q24  Q25  Q26  Q27  Q28  \n",
       "0    3    3    3    3    3    3    3    3    3    3  \n",
       "1    3    3    3    3    3    3    3    3    3    3  \n",
       "2    5    5    5    5    5    5    5    5    5    5  \n",
       "3    3    3    3    3    3    3    3    3    3    3  \n",
       "4    1    1    1    1    1    1    1    1    1    1  \n",
       "\n",
       "[5 rows x 33 columns]"
      ]
     },
     "execution_count": 6,
     "metadata": {},
     "output_type": "execute_result"
    }
   ],
   "source": [
    "df.head()"
   ]
  },
  {
   "cell_type": "code",
   "execution_count": 7,
   "metadata": {},
   "outputs": [
    {
     "name": "stdout",
     "output_type": "stream",
     "text": [
      "<class 'pandas.core.frame.DataFrame'>\n",
      "RangeIndex: 5820 entries, 0 to 5819\n",
      "Data columns (total 33 columns):\n",
      "instr         5820 non-null int64\n",
      "class         5820 non-null int64\n",
      "nb.repeat     5820 non-null int64\n",
      "attendance    5820 non-null int64\n",
      "difficulty    5820 non-null int64\n",
      "Q1            5820 non-null int64\n",
      "Q2            5820 non-null int64\n",
      "Q3            5820 non-null int64\n",
      "Q4            5820 non-null int64\n",
      "Q5            5820 non-null int64\n",
      "Q6            5820 non-null int64\n",
      "Q7            5820 non-null int64\n",
      "Q8            5820 non-null int64\n",
      "Q9            5820 non-null int64\n",
      "Q10           5820 non-null int64\n",
      "Q11           5820 non-null int64\n",
      "Q12           5820 non-null int64\n",
      "Q13           5820 non-null int64\n",
      "Q14           5820 non-null int64\n",
      "Q15           5820 non-null int64\n",
      "Q16           5820 non-null int64\n",
      "Q17           5820 non-null int64\n",
      "Q18           5820 non-null int64\n",
      "Q19           5820 non-null int64\n",
      "Q20           5820 non-null int64\n",
      "Q21           5820 non-null int64\n",
      "Q22           5820 non-null int64\n",
      "Q23           5820 non-null int64\n",
      "Q24           5820 non-null int64\n",
      "Q25           5820 non-null int64\n",
      "Q26           5820 non-null int64\n",
      "Q27           5820 non-null int64\n",
      "Q28           5820 non-null int64\n",
      "dtypes: int64(33)\n",
      "memory usage: 1.5 MB\n"
     ]
    }
   ],
   "source": [
    "df.info()"
   ]
  },
  {
   "cell_type": "code",
   "execution_count": 9,
   "metadata": {},
   "outputs": [
    {
     "data": {
      "text/html": [
       "<div>\n",
       "<style scoped>\n",
       "    .dataframe tbody tr th:only-of-type {\n",
       "        vertical-align: middle;\n",
       "    }\n",
       "\n",
       "    .dataframe tbody tr th {\n",
       "        vertical-align: top;\n",
       "    }\n",
       "\n",
       "    .dataframe thead th {\n",
       "        text-align: right;\n",
       "    }\n",
       "</style>\n",
       "<table border=\"1\" class=\"dataframe\">\n",
       "  <thead>\n",
       "    <tr style=\"text-align: right;\">\n",
       "      <th></th>\n",
       "      <th>instr</th>\n",
       "      <th>class</th>\n",
       "      <th>nb.repeat</th>\n",
       "      <th>attendance</th>\n",
       "      <th>difficulty</th>\n",
       "      <th>Q1</th>\n",
       "      <th>Q2</th>\n",
       "      <th>Q3</th>\n",
       "      <th>Q4</th>\n",
       "      <th>Q5</th>\n",
       "      <th>...</th>\n",
       "      <th>Q19</th>\n",
       "      <th>Q20</th>\n",
       "      <th>Q21</th>\n",
       "      <th>Q22</th>\n",
       "      <th>Q23</th>\n",
       "      <th>Q24</th>\n",
       "      <th>Q25</th>\n",
       "      <th>Q26</th>\n",
       "      <th>Q27</th>\n",
       "      <th>Q28</th>\n",
       "    </tr>\n",
       "  </thead>\n",
       "  <tbody>\n",
       "    <tr>\n",
       "      <th>count</th>\n",
       "      <td>5820.000000</td>\n",
       "      <td>5820.000000</td>\n",
       "      <td>5820.000000</td>\n",
       "      <td>5820.000000</td>\n",
       "      <td>5820.000000</td>\n",
       "      <td>5820.000000</td>\n",
       "      <td>5820.000000</td>\n",
       "      <td>5820.000000</td>\n",
       "      <td>5820.000000</td>\n",
       "      <td>5820.000000</td>\n",
       "      <td>...</td>\n",
       "      <td>5820.000000</td>\n",
       "      <td>5820.000000</td>\n",
       "      <td>5820.000000</td>\n",
       "      <td>5820.000000</td>\n",
       "      <td>5820.00000</td>\n",
       "      <td>5820.000000</td>\n",
       "      <td>5820.000000</td>\n",
       "      <td>5820.000000</td>\n",
       "      <td>5820.000000</td>\n",
       "      <td>5820.000000</td>\n",
       "    </tr>\n",
       "    <tr>\n",
       "      <th>mean</th>\n",
       "      <td>2.485567</td>\n",
       "      <td>7.276289</td>\n",
       "      <td>1.214089</td>\n",
       "      <td>1.675601</td>\n",
       "      <td>2.783505</td>\n",
       "      <td>2.929897</td>\n",
       "      <td>3.073883</td>\n",
       "      <td>3.178694</td>\n",
       "      <td>3.082474</td>\n",
       "      <td>3.105842</td>\n",
       "      <td>...</td>\n",
       "      <td>3.261684</td>\n",
       "      <td>3.285395</td>\n",
       "      <td>3.307388</td>\n",
       "      <td>3.317526</td>\n",
       "      <td>3.20189</td>\n",
       "      <td>3.166838</td>\n",
       "      <td>3.312543</td>\n",
       "      <td>3.222165</td>\n",
       "      <td>3.154811</td>\n",
       "      <td>3.308076</td>\n",
       "    </tr>\n",
       "    <tr>\n",
       "      <th>std</th>\n",
       "      <td>0.718473</td>\n",
       "      <td>3.688175</td>\n",
       "      <td>0.532376</td>\n",
       "      <td>1.474975</td>\n",
       "      <td>1.348987</td>\n",
       "      <td>1.341077</td>\n",
       "      <td>1.285251</td>\n",
       "      <td>1.253567</td>\n",
       "      <td>1.284594</td>\n",
       "      <td>1.278989</td>\n",
       "      <td>...</td>\n",
       "      <td>1.268442</td>\n",
       "      <td>1.276848</td>\n",
       "      <td>1.269974</td>\n",
       "      <td>1.268358</td>\n",
       "      <td>1.27259</td>\n",
       "      <td>1.275909</td>\n",
       "      <td>1.257286</td>\n",
       "      <td>1.270695</td>\n",
       "      <td>1.291872</td>\n",
       "      <td>1.278709</td>\n",
       "    </tr>\n",
       "    <tr>\n",
       "      <th>min</th>\n",
       "      <td>1.000000</td>\n",
       "      <td>1.000000</td>\n",
       "      <td>1.000000</td>\n",
       "      <td>0.000000</td>\n",
       "      <td>1.000000</td>\n",
       "      <td>1.000000</td>\n",
       "      <td>1.000000</td>\n",
       "      <td>1.000000</td>\n",
       "      <td>1.000000</td>\n",
       "      <td>1.000000</td>\n",
       "      <td>...</td>\n",
       "      <td>1.000000</td>\n",
       "      <td>1.000000</td>\n",
       "      <td>1.000000</td>\n",
       "      <td>1.000000</td>\n",
       "      <td>1.00000</td>\n",
       "      <td>1.000000</td>\n",
       "      <td>1.000000</td>\n",
       "      <td>1.000000</td>\n",
       "      <td>1.000000</td>\n",
       "      <td>1.000000</td>\n",
       "    </tr>\n",
       "    <tr>\n",
       "      <th>25%</th>\n",
       "      <td>2.000000</td>\n",
       "      <td>4.000000</td>\n",
       "      <td>1.000000</td>\n",
       "      <td>0.000000</td>\n",
       "      <td>1.000000</td>\n",
       "      <td>2.000000</td>\n",
       "      <td>2.000000</td>\n",
       "      <td>2.000000</td>\n",
       "      <td>2.000000</td>\n",
       "      <td>2.000000</td>\n",
       "      <td>...</td>\n",
       "      <td>3.000000</td>\n",
       "      <td>3.000000</td>\n",
       "      <td>3.000000</td>\n",
       "      <td>3.000000</td>\n",
       "      <td>2.00000</td>\n",
       "      <td>2.000000</td>\n",
       "      <td>3.000000</td>\n",
       "      <td>2.000000</td>\n",
       "      <td>2.000000</td>\n",
       "      <td>3.000000</td>\n",
       "    </tr>\n",
       "    <tr>\n",
       "      <th>50%</th>\n",
       "      <td>3.000000</td>\n",
       "      <td>7.000000</td>\n",
       "      <td>1.000000</td>\n",
       "      <td>1.000000</td>\n",
       "      <td>3.000000</td>\n",
       "      <td>3.000000</td>\n",
       "      <td>3.000000</td>\n",
       "      <td>3.000000</td>\n",
       "      <td>3.000000</td>\n",
       "      <td>3.000000</td>\n",
       "      <td>...</td>\n",
       "      <td>3.000000</td>\n",
       "      <td>3.000000</td>\n",
       "      <td>3.000000</td>\n",
       "      <td>3.000000</td>\n",
       "      <td>3.00000</td>\n",
       "      <td>3.000000</td>\n",
       "      <td>3.000000</td>\n",
       "      <td>3.000000</td>\n",
       "      <td>3.000000</td>\n",
       "      <td>3.000000</td>\n",
       "    </tr>\n",
       "    <tr>\n",
       "      <th>75%</th>\n",
       "      <td>3.000000</td>\n",
       "      <td>10.000000</td>\n",
       "      <td>1.000000</td>\n",
       "      <td>3.000000</td>\n",
       "      <td>4.000000</td>\n",
       "      <td>4.000000</td>\n",
       "      <td>4.000000</td>\n",
       "      <td>4.000000</td>\n",
       "      <td>4.000000</td>\n",
       "      <td>4.000000</td>\n",
       "      <td>...</td>\n",
       "      <td>4.000000</td>\n",
       "      <td>4.000000</td>\n",
       "      <td>4.000000</td>\n",
       "      <td>4.000000</td>\n",
       "      <td>4.00000</td>\n",
       "      <td>4.000000</td>\n",
       "      <td>4.000000</td>\n",
       "      <td>4.000000</td>\n",
       "      <td>4.000000</td>\n",
       "      <td>4.000000</td>\n",
       "    </tr>\n",
       "    <tr>\n",
       "      <th>max</th>\n",
       "      <td>3.000000</td>\n",
       "      <td>13.000000</td>\n",
       "      <td>3.000000</td>\n",
       "      <td>4.000000</td>\n",
       "      <td>5.000000</td>\n",
       "      <td>5.000000</td>\n",
       "      <td>5.000000</td>\n",
       "      <td>5.000000</td>\n",
       "      <td>5.000000</td>\n",
       "      <td>5.000000</td>\n",
       "      <td>...</td>\n",
       "      <td>5.000000</td>\n",
       "      <td>5.000000</td>\n",
       "      <td>5.000000</td>\n",
       "      <td>5.000000</td>\n",
       "      <td>5.00000</td>\n",
       "      <td>5.000000</td>\n",
       "      <td>5.000000</td>\n",
       "      <td>5.000000</td>\n",
       "      <td>5.000000</td>\n",
       "      <td>5.000000</td>\n",
       "    </tr>\n",
       "  </tbody>\n",
       "</table>\n",
       "<p>8 rows × 33 columns</p>\n",
       "</div>"
      ],
      "text/plain": [
       "             instr        class    nb.repeat   attendance   difficulty  \\\n",
       "count  5820.000000  5820.000000  5820.000000  5820.000000  5820.000000   \n",
       "mean      2.485567     7.276289     1.214089     1.675601     2.783505   \n",
       "std       0.718473     3.688175     0.532376     1.474975     1.348987   \n",
       "min       1.000000     1.000000     1.000000     0.000000     1.000000   \n",
       "25%       2.000000     4.000000     1.000000     0.000000     1.000000   \n",
       "50%       3.000000     7.000000     1.000000     1.000000     3.000000   \n",
       "75%       3.000000    10.000000     1.000000     3.000000     4.000000   \n",
       "max       3.000000    13.000000     3.000000     4.000000     5.000000   \n",
       "\n",
       "                Q1           Q2           Q3           Q4           Q5  ...  \\\n",
       "count  5820.000000  5820.000000  5820.000000  5820.000000  5820.000000  ...   \n",
       "mean      2.929897     3.073883     3.178694     3.082474     3.105842  ...   \n",
       "std       1.341077     1.285251     1.253567     1.284594     1.278989  ...   \n",
       "min       1.000000     1.000000     1.000000     1.000000     1.000000  ...   \n",
       "25%       2.000000     2.000000     2.000000     2.000000     2.000000  ...   \n",
       "50%       3.000000     3.000000     3.000000     3.000000     3.000000  ...   \n",
       "75%       4.000000     4.000000     4.000000     4.000000     4.000000  ...   \n",
       "max       5.000000     5.000000     5.000000     5.000000     5.000000  ...   \n",
       "\n",
       "               Q19          Q20          Q21          Q22         Q23  \\\n",
       "count  5820.000000  5820.000000  5820.000000  5820.000000  5820.00000   \n",
       "mean      3.261684     3.285395     3.307388     3.317526     3.20189   \n",
       "std       1.268442     1.276848     1.269974     1.268358     1.27259   \n",
       "min       1.000000     1.000000     1.000000     1.000000     1.00000   \n",
       "25%       3.000000     3.000000     3.000000     3.000000     2.00000   \n",
       "50%       3.000000     3.000000     3.000000     3.000000     3.00000   \n",
       "75%       4.000000     4.000000     4.000000     4.000000     4.00000   \n",
       "max       5.000000     5.000000     5.000000     5.000000     5.00000   \n",
       "\n",
       "               Q24          Q25          Q26          Q27          Q28  \n",
       "count  5820.000000  5820.000000  5820.000000  5820.000000  5820.000000  \n",
       "mean      3.166838     3.312543     3.222165     3.154811     3.308076  \n",
       "std       1.275909     1.257286     1.270695     1.291872     1.278709  \n",
       "min       1.000000     1.000000     1.000000     1.000000     1.000000  \n",
       "25%       2.000000     3.000000     2.000000     2.000000     3.000000  \n",
       "50%       3.000000     3.000000     3.000000     3.000000     3.000000  \n",
       "75%       4.000000     4.000000     4.000000     4.000000     4.000000  \n",
       "max       5.000000     5.000000     5.000000     5.000000     5.000000  \n",
       "\n",
       "[8 rows x 33 columns]"
      ]
     },
     "execution_count": 9,
     "metadata": {},
     "output_type": "execute_result"
    }
   ],
   "source": [
    "df.describe()"
   ]
  },
  {
   "cell_type": "code",
   "execution_count": 10,
   "metadata": {},
   "outputs": [
    {
     "data": {
      "text/plain": [
       "instr         0\n",
       "class         0\n",
       "nb.repeat     0\n",
       "attendance    0\n",
       "difficulty    0\n",
       "Q1            0\n",
       "Q2            0\n",
       "Q3            0\n",
       "Q4            0\n",
       "Q5            0\n",
       "Q6            0\n",
       "Q7            0\n",
       "Q8            0\n",
       "Q9            0\n",
       "Q10           0\n",
       "Q11           0\n",
       "Q12           0\n",
       "Q13           0\n",
       "Q14           0\n",
       "Q15           0\n",
       "Q16           0\n",
       "Q17           0\n",
       "Q18           0\n",
       "Q19           0\n",
       "Q20           0\n",
       "Q21           0\n",
       "Q22           0\n",
       "Q23           0\n",
       "Q24           0\n",
       "Q25           0\n",
       "Q26           0\n",
       "Q27           0\n",
       "Q28           0\n",
       "dtype: int64"
      ]
     },
     "execution_count": 10,
     "metadata": {},
     "output_type": "execute_result"
    }
   ],
   "source": [
    "df.isnull().sum()"
   ]
  },
  {
   "cell_type": "code",
   "execution_count": null,
   "metadata": {},
   "outputs": [],
   "source": [
    "there is no null values."
   ]
  },
  {
   "cell_type": "code",
   "execution_count": 11,
   "metadata": {},
   "outputs": [
    {
     "data": {
      "text/plain": [
       "<matplotlib.axes._subplots.AxesSubplot at 0x1d084577f98>"
      ]
     },
     "execution_count": 11,
     "metadata": {},
     "output_type": "execute_result"
    },
    {
     "data": {
      "image/png": "[encoded data removed]",
      "text/plain": [
       "<Figure size 1440x432 with 1 Axes>"
      ]
     },
     "metadata": {
      "needs_background": "light"
     },
     "output_type": "display_data"
    }
   ],
   "source": [
    "plt.figure(figsize=(20, 6))\n",
    "sns.countplot(x='class', data=df)"
   ]
  },
  {
   "cell_type": "code",
   "execution_count": null,
   "metadata": {},
   "outputs": [],
   "source": [
    "lets begin clustering of students based on the questionary data"
   ]
  },
  {
   "cell_type": "code",
   "execution_count": 12,
   "metadata": {},
   "outputs": [],
   "source": [
    "df_q=df.iloc[:,5:33]"
   ]
  },
  {
   "cell_type": "code",
   "execution_count": 13,
   "metadata": {},
   "outputs": [
    {
     "data": {
      "text/html": [
       "<div>\n",
       "<style scoped>\n",
       "    .dataframe tbody tr th:only-of-type {\n",
       "        vertical-align: middle;\n",
       "    }\n",
       "\n",
       "    .dataframe tbody tr th {\n",
       "        vertical-align: top;\n",
       "    }\n",
       "\n",
       "    .dataframe thead th {\n",
       "        text-align: right;\n",
       "    }\n",
       "</style>\n",
       "<table border=\"1\" class=\"dataframe\">\n",
       "  <thead>\n",
       "    <tr style=\"text-align: right;\">\n",
       "      <th></th>\n",
       "      <th>Q1</th>\n",
       "      <th>Q2</th>\n",
       "      <th>Q3</th>\n",
       "      <th>Q4</th>\n",
       "      <th>Q5</th>\n",
       "      <th>Q6</th>\n",
       "      <th>Q7</th>\n",
       "      <th>Q8</th>\n",
       "      <th>Q9</th>\n",
       "      <th>Q10</th>\n",
       "      <th>...</th>\n",
       "      <th>Q19</th>\n",
       "      <th>Q20</th>\n",
       "      <th>Q21</th>\n",
       "      <th>Q22</th>\n",
       "      <th>Q23</th>\n",
       "      <th>Q24</th>\n",
       "      <th>Q25</th>\n",
       "      <th>Q26</th>\n",
       "      <th>Q27</th>\n",
       "      <th>Q28</th>\n",
       "    </tr>\n",
       "  </thead>\n",
       "  <tbody>\n",
       "    <tr>\n",
       "      <th>0</th>\n",
       "      <td>3</td>\n",
       "      <td>3</td>\n",
       "      <td>3</td>\n",
       "      <td>3</td>\n",
       "      <td>3</td>\n",
       "      <td>3</td>\n",
       "      <td>3</td>\n",
       "      <td>3</td>\n",
       "      <td>3</td>\n",
       "      <td>3</td>\n",
       "      <td>...</td>\n",
       "      <td>3</td>\n",
       "      <td>3</td>\n",
       "      <td>3</td>\n",
       "      <td>3</td>\n",
       "      <td>3</td>\n",
       "      <td>3</td>\n",
       "      <td>3</td>\n",
       "      <td>3</td>\n",
       "      <td>3</td>\n",
       "      <td>3</td>\n",
       "    </tr>\n",
       "    <tr>\n",
       "      <th>1</th>\n",
       "      <td>3</td>\n",
       "      <td>3</td>\n",
       "      <td>3</td>\n",
       "      <td>3</td>\n",
       "      <td>3</td>\n",
       "      <td>3</td>\n",
       "      <td>3</td>\n",
       "      <td>3</td>\n",
       "      <td>3</td>\n",
       "      <td>3</td>\n",
       "      <td>...</td>\n",
       "      <td>3</td>\n",
       "      <td>3</td>\n",
       "      <td>3</td>\n",
       "      <td>3</td>\n",
       "      <td>3</td>\n",
       "      <td>3</td>\n",
       "      <td>3</td>\n",
       "      <td>3</td>\n",
       "      <td>3</td>\n",
       "      <td>3</td>\n",
       "    </tr>\n",
       "    <tr>\n",
       "      <th>2</th>\n",
       "      <td>5</td>\n",
       "      <td>5</td>\n",
       "      <td>5</td>\n",
       "      <td>5</td>\n",
       "      <td>5</td>\n",
       "      <td>5</td>\n",
       "      <td>5</td>\n",
       "      <td>5</td>\n",
       "      <td>5</td>\n",
       "      <td>5</td>\n",
       "      <td>...</td>\n",
       "      <td>5</td>\n",
       "      <td>5</td>\n",
       "      <td>5</td>\n",
       "      <td>5</td>\n",
       "      <td>5</td>\n",
       "      <td>5</td>\n",
       "      <td>5</td>\n",
       "      <td>5</td>\n",
       "      <td>5</td>\n",
       "      <td>5</td>\n",
       "    </tr>\n",
       "    <tr>\n",
       "      <th>3</th>\n",
       "      <td>3</td>\n",
       "      <td>3</td>\n",
       "      <td>3</td>\n",
       "      <td>3</td>\n",
       "      <td>3</td>\n",
       "      <td>3</td>\n",
       "      <td>3</td>\n",
       "      <td>3</td>\n",
       "      <td>3</td>\n",
       "      <td>3</td>\n",
       "      <td>...</td>\n",
       "      <td>3</td>\n",
       "      <td>3</td>\n",
       "      <td>3</td>\n",
       "      <td>3</td>\n",
       "      <td>3</td>\n",
       "      <td>3</td>\n",
       "      <td>3</td>\n",
       "      <td>3</td>\n",
       "      <td>3</td>\n",
       "      <td>3</td>\n",
       "    </tr>\n",
       "    <tr>\n",
       "      <th>4</th>\n",
       "      <td>1</td>\n",
       "      <td>1</td>\n",
       "      <td>1</td>\n",
       "      <td>1</td>\n",
       "      <td>1</td>\n",
       "      <td>1</td>\n",
       "      <td>1</td>\n",
       "      <td>1</td>\n",
       "      <td>1</td>\n",
       "      <td>1</td>\n",
       "      <td>...</td>\n",
       "      <td>1</td>\n",
       "      <td>1</td>\n",
       "      <td>1</td>\n",
       "      <td>1</td>\n",
       "      <td>1</td>\n",
       "      <td>1</td>\n",
       "      <td>1</td>\n",
       "      <td>1</td>\n",
       "      <td>1</td>\n",
       "      <td>1</td>\n",
       "    </tr>\n",
       "  </tbody>\n",
       "</table>\n",
       "<p>5 rows × 28 columns</p>\n",
       "</div>"
      ],
      "text/plain": [
       "   Q1  Q2  Q3  Q4  Q5  Q6  Q7  Q8  Q9  Q10  ...  Q19  Q20  Q21  Q22  Q23  Q24  \\\n",
       "0   3   3   3   3   3   3   3   3   3    3  ...    3    3    3    3    3    3   \n",
       "1   3   3   3   3   3   3   3   3   3    3  ...    3    3    3    3    3    3   \n",
       "2   5   5   5   5   5   5   5   5   5    5  ...    5    5    5    5    5    5   \n",
       "3   3   3   3   3   3   3   3   3   3    3  ...    3    3    3    3    3    3   \n",
       "4   1   1   1   1   1   1   1   1   1    1  ...    1    1    1    1    1    1   \n",
       "\n",
       "   Q25  Q26  Q27  Q28  \n",
       "0    3    3    3    3  \n",
       "1    3    3    3    3  \n",
       "2    5    5    5    5  \n",
       "3    3    3    3    3  \n",
       "4    1    1    1    1  \n",
       "\n",
       "[5 rows x 28 columns]"
      ]
     },
     "execution_count": 13,
     "metadata": {},
     "output_type": "execute_result"
    }
   ],
   "source": [
    "df_q.head()"
   ]
  },
  {
   "cell_type": "markdown",
   "metadata": {},
   "source": [
    "# KMeans clustering"
   ]
  },
  {
   "cell_type": "code",
   "execution_count": 15,
   "metadata": {},
   "outputs": [],
   "source": [
    "from sklearn.model_selection  import train_test_split\n",
    "from sklearn.cluster import KMeans\n",
    "from sklearn.preprocessing import StandardScaler\n",
    "sc=StandardScaler()"
   ]
  },
  {
   "cell_type": "code",
   "execution_count": 16,
   "metadata": {},
   "outputs": [
    {
     "data": {
      "text/html": [
       "<div>\n",
       "<style scoped>\n",
       "    .dataframe tbody tr th:only-of-type {\n",
       "        vertical-align: middle;\n",
       "    }\n",
       "\n",
       "    .dataframe tbody tr th {\n",
       "        vertical-align: top;\n",
       "    }\n",
       "\n",
       "    .dataframe thead th {\n",
       "        text-align: right;\n",
       "    }\n",
       "</style>\n",
       "<table border=\"1\" class=\"dataframe\">\n",
       "  <thead>\n",
       "    <tr style=\"text-align: right;\">\n",
       "      <th></th>\n",
       "      <th>instr</th>\n",
       "      <th>class</th>\n",
       "      <th>nb.repeat</th>\n",
       "      <th>attendance</th>\n",
       "      <th>difficulty</th>\n",
       "      <th>Q1</th>\n",
       "      <th>Q2</th>\n",
       "      <th>Q3</th>\n",
       "      <th>Q4</th>\n",
       "      <th>Q5</th>\n",
       "      <th>...</th>\n",
       "      <th>Q19</th>\n",
       "      <th>Q20</th>\n",
       "      <th>Q21</th>\n",
       "      <th>Q22</th>\n",
       "      <th>Q23</th>\n",
       "      <th>Q24</th>\n",
       "      <th>Q25</th>\n",
       "      <th>Q26</th>\n",
       "      <th>Q27</th>\n",
       "      <th>Q28</th>\n",
       "    </tr>\n",
       "  </thead>\n",
       "  <tbody>\n",
       "    <tr>\n",
       "      <th>0</th>\n",
       "      <td>-2.06785</td>\n",
       "      <td>-1.430719</td>\n",
       "      <td>-0.402174</td>\n",
       "      <td>-1.136118</td>\n",
       "      <td>0.901862</td>\n",
       "      <td>0.052278</td>\n",
       "      <td>-0.05749</td>\n",
       "      <td>-0.142561</td>\n",
       "      <td>-0.064208</td>\n",
       "      <td>-0.082761</td>\n",
       "      <td>...</td>\n",
       "      <td>-0.206321</td>\n",
       "      <td>-0.223535</td>\n",
       "      <td>-0.242064</td>\n",
       "      <td>-0.250365</td>\n",
       "      <td>-0.158659</td>\n",
       "      <td>-0.130772</td>\n",
       "      <td>-0.248607</td>\n",
       "      <td>-0.174852</td>\n",
       "      <td>-0.119845</td>\n",
       "      <td>-0.240948</td>\n",
       "    </tr>\n",
       "    <tr>\n",
       "      <th>1</th>\n",
       "      <td>-2.06785</td>\n",
       "      <td>-1.430719</td>\n",
       "      <td>-0.402174</td>\n",
       "      <td>-0.458082</td>\n",
       "      <td>0.160501</td>\n",
       "      <td>0.052278</td>\n",
       "      <td>-0.05749</td>\n",
       "      <td>-0.142561</td>\n",
       "      <td>-0.064208</td>\n",
       "      <td>-0.082761</td>\n",
       "      <td>...</td>\n",
       "      <td>-0.206321</td>\n",
       "      <td>-0.223535</td>\n",
       "      <td>-0.242064</td>\n",
       "      <td>-0.250365</td>\n",
       "      <td>-0.158659</td>\n",
       "      <td>-0.130772</td>\n",
       "      <td>-0.248607</td>\n",
       "      <td>-0.174852</td>\n",
       "      <td>-0.119845</td>\n",
       "      <td>-0.240948</td>\n",
       "    </tr>\n",
       "    <tr>\n",
       "      <th>2</th>\n",
       "      <td>-2.06785</td>\n",
       "      <td>-1.430719</td>\n",
       "      <td>-0.402174</td>\n",
       "      <td>0.219954</td>\n",
       "      <td>0.901862</td>\n",
       "      <td>1.543745</td>\n",
       "      <td>1.49876</td>\n",
       "      <td>1.453023</td>\n",
       "      <td>1.492837</td>\n",
       "      <td>1.481107</td>\n",
       "      <td>...</td>\n",
       "      <td>1.370552</td>\n",
       "      <td>1.342957</td>\n",
       "      <td>1.332907</td>\n",
       "      <td>1.326612</td>\n",
       "      <td>1.413075</td>\n",
       "      <td>1.436873</td>\n",
       "      <td>1.342258</td>\n",
       "      <td>1.399225</td>\n",
       "      <td>1.428430</td>\n",
       "      <td>1.323265</td>\n",
       "    </tr>\n",
       "    <tr>\n",
       "      <th>3</th>\n",
       "      <td>-2.06785</td>\n",
       "      <td>-1.430719</td>\n",
       "      <td>-0.402174</td>\n",
       "      <td>-0.458082</td>\n",
       "      <td>0.160501</td>\n",
       "      <td>0.052278</td>\n",
       "      <td>-0.05749</td>\n",
       "      <td>-0.142561</td>\n",
       "      <td>-0.064208</td>\n",
       "      <td>-0.082761</td>\n",
       "      <td>...</td>\n",
       "      <td>-0.206321</td>\n",
       "      <td>-0.223535</td>\n",
       "      <td>-0.242064</td>\n",
       "      <td>-0.250365</td>\n",
       "      <td>-0.158659</td>\n",
       "      <td>-0.130772</td>\n",
       "      <td>-0.248607</td>\n",
       "      <td>-0.174852</td>\n",
       "      <td>-0.119845</td>\n",
       "      <td>-0.240948</td>\n",
       "    </tr>\n",
       "    <tr>\n",
       "      <th>4</th>\n",
       "      <td>-2.06785</td>\n",
       "      <td>-1.430719</td>\n",
       "      <td>-0.402174</td>\n",
       "      <td>-1.136118</td>\n",
       "      <td>-1.322221</td>\n",
       "      <td>-1.439189</td>\n",
       "      <td>-1.61374</td>\n",
       "      <td>-1.738145</td>\n",
       "      <td>-1.621254</td>\n",
       "      <td>-1.646630</td>\n",
       "      <td>...</td>\n",
       "      <td>-1.783194</td>\n",
       "      <td>-1.790026</td>\n",
       "      <td>-1.817034</td>\n",
       "      <td>-1.827343</td>\n",
       "      <td>-1.730392</td>\n",
       "      <td>-1.698417</td>\n",
       "      <td>-1.839472</td>\n",
       "      <td>-1.748929</td>\n",
       "      <td>-1.668120</td>\n",
       "      <td>-1.805160</td>\n",
       "    </tr>\n",
       "  </tbody>\n",
       "</table>\n",
       "<p>5 rows × 33 columns</p>\n",
       "</div>"
      ],
      "text/plain": [
       "     instr     class  nb.repeat  attendance  difficulty        Q1       Q2  \\\n",
       "0 -2.06785 -1.430719  -0.402174   -1.136118    0.901862  0.052278 -0.05749   \n",
       "1 -2.06785 -1.430719  -0.402174   -0.458082    0.160501  0.052278 -0.05749   \n",
       "2 -2.06785 -1.430719  -0.402174    0.219954    0.901862  1.543745  1.49876   \n",
       "3 -2.06785 -1.430719  -0.402174   -0.458082    0.160501  0.052278 -0.05749   \n",
       "4 -2.06785 -1.430719  -0.402174   -1.136118   -1.322221 -1.439189 -1.61374   \n",
       "\n",
       "         Q3        Q4        Q5  ...       Q19       Q20       Q21       Q22  \\\n",
       "0 -0.142561 -0.064208 -0.082761  ... -0.206321 -0.223535 -0.242064 -0.250365   \n",
       "1 -0.142561 -0.064208 -0.082761  ... -0.206321 -0.223535 -0.242064 -0.250365   \n",
       "2  1.453023  1.492837  1.481107  ...  1.370552  1.342957  1.332907  1.326612   \n",
       "3 -0.142561 -0.064208 -0.082761  ... -0.206321 -0.223535 -0.242064 -0.250365   \n",
       "4 -1.738145 -1.621254 -1.646630  ... -1.783194 -1.790026 -1.817034 -1.827343   \n",
       "\n",
       "        Q23       Q24       Q25       Q26       Q27       Q28  \n",
       "0 -0.158659 -0.130772 -0.248607 -0.174852 -0.119845 -0.240948  \n",
       "1 -0.158659 -0.130772 -0.248607 -0.174852 -0.119845 -0.240948  \n",
       "2  1.413075  1.436873  1.342258  1.399225  1.428430  1.323265  \n",
       "3 -0.158659 -0.130772 -0.248607 -0.174852 -0.119845 -0.240948  \n",
       "4 -1.730392 -1.698417 -1.839472 -1.748929 -1.668120 -1.805160  \n",
       "\n",
       "[5 rows x 33 columns]"
      ]
     },
     "execution_count": 16,
     "metadata": {},
     "output_type": "execute_result"
    }
   ],
   "source": [
    "feature_names = df.columns\n",
    "df= pd.DataFrame(sc.fit_transform(df))\n",
    "df.columns= feature_names\n",
    "df.head()"
   ]
  },
  {
   "cell_type": "code",
   "execution_count": 17,
   "metadata": {},
   "outputs": [
    {
     "data": {
      "text/html": [
       "<div>\n",
       "<style scoped>\n",
       "    .dataframe tbody tr th:only-of-type {\n",
       "        vertical-align: middle;\n",
       "    }\n",
       "\n",
       "    .dataframe tbody tr th {\n",
       "        vertical-align: top;\n",
       "    }\n",
       "\n",
       "    .dataframe thead th {\n",
       "        text-align: right;\n",
       "    }\n",
       "</style>\n",
       "<table border=\"1\" class=\"dataframe\">\n",
       "  <thead>\n",
       "    <tr style=\"text-align: right;\">\n",
       "      <th></th>\n",
       "      <th>num_clusters</th>\n",
       "      <th>cluster_errors</th>\n",
       "    </tr>\n",
       "  </thead>\n",
       "  <tbody>\n",
       "    <tr>\n",
       "      <th>0</th>\n",
       "      <td>1</td>\n",
       "      <td>192060.000000</td>\n",
       "    </tr>\n",
       "    <tr>\n",
       "      <th>1</th>\n",
       "      <td>2</td>\n",
       "      <td>105365.821314</td>\n",
       "    </tr>\n",
       "    <tr>\n",
       "      <th>2</th>\n",
       "      <td>3</td>\n",
       "      <td>73956.576471</td>\n",
       "    </tr>\n",
       "    <tr>\n",
       "      <th>3</th>\n",
       "      <td>4</td>\n",
       "      <td>65555.563392</td>\n",
       "    </tr>\n",
       "    <tr>\n",
       "      <th>4</th>\n",
       "      <td>5</td>\n",
       "      <td>60429.675871</td>\n",
       "    </tr>\n",
       "    <tr>\n",
       "      <th>5</th>\n",
       "      <td>6</td>\n",
       "      <td>57626.854512</td>\n",
       "    </tr>\n",
       "    <tr>\n",
       "      <th>6</th>\n",
       "      <td>7</td>\n",
       "      <td>56420.387212</td>\n",
       "    </tr>\n",
       "    <tr>\n",
       "      <th>7</th>\n",
       "      <td>8</td>\n",
       "      <td>54213.414335</td>\n",
       "    </tr>\n",
       "    <tr>\n",
       "      <th>8</th>\n",
       "      <td>9</td>\n",
       "      <td>53101.200207</td>\n",
       "    </tr>\n",
       "  </tbody>\n",
       "</table>\n",
       "</div>"
      ],
      "text/plain": [
       "   num_clusters  cluster_errors\n",
       "0             1   192060.000000\n",
       "1             2   105365.821314\n",
       "2             3    73956.576471\n",
       "3             4    65555.563392\n",
       "4             5    60429.675871\n",
       "5             6    57626.854512\n",
       "6             7    56420.387212\n",
       "7             8    54213.414335\n",
       "8             9    53101.200207"
      ]
     },
     "execution_count": 17,
     "metadata": {},
     "output_type": "execute_result"
    }
   ],
   "source": [
    "\n",
    "cluster_range = range( 1, 10)\n",
    "cluster_errors = []\n",
    "cluster_sil_scores = []\n",
    "for num_clusters in cluster_range:\n",
    "  clusters = KMeans(num_clusters, n_init = 5)\n",
    "  clusters.fit(df)\n",
    "  labels = clusters.labels_                     # capture the cluster lables\n",
    "  centroids = clusters.cluster_centers_         # capture the centroids\n",
    "  cluster_errors.append( clusters.inertia_ )    # capture the intertia\n",
    "# combine the cluster_range and cluster_errors into a dataframe by combining them\n",
    "clusters_df = pd.DataFrame( { \"num_clusters\":cluster_range, \"cluster_errors\": cluster_errors} )\n",
    "clusters_df[0:10]"
   ]
  },
  {
   "cell_type": "code",
   "execution_count": 18,
   "metadata": {},
   "outputs": [
    {
     "data": {
      "text/plain": [
       "[<matplotlib.lines.Line2D at 0x1d0aa84a320>]"
      ]
     },
     "execution_count": 18,
     "metadata": {},
     "output_type": "execute_result"
    },
    {
     "data": {
      "image/png": "[encoded data removed]",
      "text/plain": [
       "<Figure size 864x432 with 1 Axes>"
      ]
     },
     "metadata": {
      "needs_background": "light"
     },
     "output_type": "display_data"
    }
   ],
   "source": [
    "# Elbow plot\n",
    "\n",
    "plt.figure(figsize=(12,6))\n",
    "plt.plot( clusters_df.num_clusters, clusters_df.cluster_errors, marker = \"o\" )"
   ]
  },
  {
   "cell_type": "code",
   "execution_count": 24,
   "metadata": {},
   "outputs": [
    {
     "name": "stdout",
     "output_type": "stream",
     "text": [
      "[[-2.25406940e-01  1.28376608e-02 -2.60299338e-02  1.85223286e-01\n",
      "  -3.02334741e-02  1.33105047e+00  1.36741157e+00  1.34064493e+00\n",
      "   1.34601478e+00  1.39554074e+00  1.39235236e+00  1.41266910e+00\n",
      "   1.41687721e+00  1.34727953e+00  1.42329307e+00  1.32118946e+00\n",
      "   1.37437583e+00  1.34405490e+00  1.32167176e+00  1.32506744e+00\n",
      "   1.36519121e+00  1.21953790e+00  1.33078153e+00  1.31731604e+00\n",
      "   1.30283707e+00  1.28890297e+00  1.29081315e+00  1.36550208e+00\n",
      "   1.36569961e+00  1.29966233e+00  1.32867521e+00  1.32388955e+00\n",
      "   1.26590412e+00  1.00000000e+00]\n",
      " [ 1.31516988e-01  7.78221861e-02  6.54910776e-02 -3.31909276e-01\n",
      "  -2.13597430e-01 -1.15352212e+00 -1.31305678e+00 -1.35028263e+00\n",
      "  -1.29757606e+00 -1.35561706e+00 -1.34311918e+00 -1.32001703e+00\n",
      "  -1.30564096e+00 -1.32853808e+00 -1.36344781e+00 -1.34038109e+00\n",
      "  -1.27848232e+00 -1.46720810e+00 -1.50116135e+00 -1.48358520e+00\n",
      "  -1.43141002e+00 -1.44001848e+00 -1.44854791e+00 -1.46927307e+00\n",
      "  -1.48342423e+00 -1.48038934e+00 -1.47705023e+00 -1.44516149e+00\n",
      "  -1.41458498e+00 -1.47342627e+00 -1.44018334e+00 -1.38000811e+00\n",
      "  -1.45901442e+00  1.03805853e-14]\n",
      " [-1.27764798e-01 -4.26147653e-02 -8.90850944e-02  1.71011150e-01\n",
      "   7.26164649e-02  4.44838606e-01  5.38889558e-01  5.23202216e-01\n",
      "   5.14658335e-01  5.50954224e-01  5.07265738e-01  5.13897785e-01\n",
      "   5.03717306e-01  5.15325695e-01  5.61179926e-01  5.27681247e-01\n",
      "   4.96840799e-01  5.89270757e-01  5.89684094e-01  5.81445815e-01\n",
      "   6.11970118e-01  5.22314689e-01  6.03894162e-01  6.07100909e-01\n",
      "   5.99700762e-01  5.93946134e-01  5.95038732e-01  6.08299357e-01\n",
      "   5.98311964e-01  5.82769547e-01  5.91401669e-01  5.65702677e-01\n",
      "   5.76959037e-01  1.00000000e+00]\n",
      " [ 1.23273261e-01 -1.51423734e-02  4.65260942e-02 -2.64254053e-02\n",
      "   7.60919727e-02 -2.54469692e-01 -2.55037598e-01 -2.09429941e-01\n",
      "  -2.35075705e-01 -2.52104816e-01 -2.21933292e-01 -2.49217181e-01\n",
      "  -2.50873136e-01 -2.18256865e-01 -2.67570790e-01 -2.10753851e-01\n",
      "  -2.43205497e-01 -1.97810692e-01 -1.69211358e-01 -1.73982292e-01\n",
      "  -2.46038847e-01 -1.06426956e-01 -2.15145023e-01 -2.00209135e-01\n",
      "  -1.79894399e-01 -1.71098533e-01 -1.74725568e-01 -2.35189308e-01\n",
      "  -2.44699451e-01 -1.70373889e-01 -2.08789591e-01 -2.20362794e-01\n",
      "  -1.59857380e-01  5.57170543e-02]]\n"
     ]
    }
   ],
   "source": [
    "kmeans = KMeans(n_clusters=4)\n",
    "kmeans = kmeans.fit(df)\n",
    "labels = kmeans.predict(df)\n",
    "centroids = kmeans.cluster_centers_\n",
    "print(centroids)"
   ]
  },
  {
   "cell_type": "code",
   "execution_count": 25,
   "metadata": {},
   "outputs": [],
   "source": [
    "df['group'] = labels"
   ]
  },
  {
   "cell_type": "code",
   "execution_count": 66,
   "metadata": {},
   "outputs": [
    {
     "data": {
      "text/html": [
       "<div>\n",
       "<style scoped>\n",
       "    .dataframe tbody tr th:only-of-type {\n",
       "        vertical-align: middle;\n",
       "    }\n",
       "\n",
       "    .dataframe tbody tr th {\n",
       "        vertical-align: top;\n",
       "    }\n",
       "\n",
       "    .dataframe thead th {\n",
       "        text-align: right;\n",
       "    }\n",
       "</style>\n",
       "<table border=\"1\" class=\"dataframe\">\n",
       "  <thead>\n",
       "    <tr style=\"text-align: right;\">\n",
       "      <th></th>\n",
       "      <th>instr</th>\n",
       "      <th>class</th>\n",
       "      <th>nb.repeat</th>\n",
       "      <th>attendance</th>\n",
       "      <th>difficulty</th>\n",
       "      <th>Q1</th>\n",
       "      <th>Q2</th>\n",
       "      <th>Q3</th>\n",
       "      <th>Q4</th>\n",
       "      <th>Q5</th>\n",
       "      <th>...</th>\n",
       "      <th>Q20</th>\n",
       "      <th>Q21</th>\n",
       "      <th>Q22</th>\n",
       "      <th>Q23</th>\n",
       "      <th>Q24</th>\n",
       "      <th>Q25</th>\n",
       "      <th>Q26</th>\n",
       "      <th>Q27</th>\n",
       "      <th>Q28</th>\n",
       "      <th>group</th>\n",
       "    </tr>\n",
       "  </thead>\n",
       "  <tbody>\n",
       "    <tr>\n",
       "      <th>0</th>\n",
       "      <td>-2.06785</td>\n",
       "      <td>-1.430719</td>\n",
       "      <td>-0.402174</td>\n",
       "      <td>-1.136118</td>\n",
       "      <td>0.901862</td>\n",
       "      <td>0.052278</td>\n",
       "      <td>-0.05749</td>\n",
       "      <td>-0.142561</td>\n",
       "      <td>-0.064208</td>\n",
       "      <td>-0.082761</td>\n",
       "      <td>...</td>\n",
       "      <td>-0.223535</td>\n",
       "      <td>-0.242064</td>\n",
       "      <td>-0.250365</td>\n",
       "      <td>-0.158659</td>\n",
       "      <td>-0.130772</td>\n",
       "      <td>-0.248607</td>\n",
       "      <td>-0.174852</td>\n",
       "      <td>-0.119845</td>\n",
       "      <td>-0.240948</td>\n",
       "      <td>3</td>\n",
       "    </tr>\n",
       "    <tr>\n",
       "      <th>1</th>\n",
       "      <td>-2.06785</td>\n",
       "      <td>-1.430719</td>\n",
       "      <td>-0.402174</td>\n",
       "      <td>-0.458082</td>\n",
       "      <td>0.160501</td>\n",
       "      <td>0.052278</td>\n",
       "      <td>-0.05749</td>\n",
       "      <td>-0.142561</td>\n",
       "      <td>-0.064208</td>\n",
       "      <td>-0.082761</td>\n",
       "      <td>...</td>\n",
       "      <td>-0.223535</td>\n",
       "      <td>-0.242064</td>\n",
       "      <td>-0.250365</td>\n",
       "      <td>-0.158659</td>\n",
       "      <td>-0.130772</td>\n",
       "      <td>-0.248607</td>\n",
       "      <td>-0.174852</td>\n",
       "      <td>-0.119845</td>\n",
       "      <td>-0.240948</td>\n",
       "      <td>3</td>\n",
       "    </tr>\n",
       "    <tr>\n",
       "      <th>2</th>\n",
       "      <td>-2.06785</td>\n",
       "      <td>-1.430719</td>\n",
       "      <td>-0.402174</td>\n",
       "      <td>0.219954</td>\n",
       "      <td>0.901862</td>\n",
       "      <td>1.543745</td>\n",
       "      <td>1.49876</td>\n",
       "      <td>1.453023</td>\n",
       "      <td>1.492837</td>\n",
       "      <td>1.481107</td>\n",
       "      <td>...</td>\n",
       "      <td>1.342957</td>\n",
       "      <td>1.332907</td>\n",
       "      <td>1.326612</td>\n",
       "      <td>1.413075</td>\n",
       "      <td>1.436873</td>\n",
       "      <td>1.342258</td>\n",
       "      <td>1.399225</td>\n",
       "      <td>1.428430</td>\n",
       "      <td>1.323265</td>\n",
       "      <td>0</td>\n",
       "    </tr>\n",
       "  </tbody>\n",
       "</table>\n",
       "<p>3 rows × 34 columns</p>\n",
       "</div>"
      ],
      "text/plain": [
       "     instr     class  nb.repeat  attendance  difficulty        Q1       Q2  \\\n",
       "0 -2.06785 -1.430719  -0.402174   -1.136118    0.901862  0.052278 -0.05749   \n",
       "1 -2.06785 -1.430719  -0.402174   -0.458082    0.160501  0.052278 -0.05749   \n",
       "2 -2.06785 -1.430719  -0.402174    0.219954    0.901862  1.543745  1.49876   \n",
       "\n",
       "         Q3        Q4        Q5  ...       Q20       Q21       Q22       Q23  \\\n",
       "0 -0.142561 -0.064208 -0.082761  ... -0.223535 -0.242064 -0.250365 -0.158659   \n",
       "1 -0.142561 -0.064208 -0.082761  ... -0.223535 -0.242064 -0.250365 -0.158659   \n",
       "2  1.453023  1.492837  1.481107  ...  1.342957  1.332907  1.326612  1.413075   \n",
       "\n",
       "        Q24       Q25       Q26       Q27       Q28  group  \n",
       "0 -0.130772 -0.248607 -0.174852 -0.119845 -0.240948      3  \n",
       "1 -0.130772 -0.248607 -0.174852 -0.119845 -0.240948      3  \n",
       "2  1.436873  1.342258  1.399225  1.428430  1.323265      0  \n",
       "\n",
       "[3 rows x 34 columns]"
      ]
     },
     "execution_count": 66,
     "metadata": {},
     "output_type": "execute_result"
    }
   ],
   "source": [
    "df.head(3)"
   ]
  },
  {
   "cell_type": "code",
   "execution_count": 29,
   "metadata": {},
   "outputs": [
    {
     "data": {
      "text/plain": [
       "array([3, 0, 1, 2], dtype=int64)"
      ]
     },
     "execution_count": 29,
     "metadata": {},
     "output_type": "execute_result"
    }
   ],
   "source": [
    "df['group'].unique()"
   ]
  },
  {
   "cell_type": "markdown",
   "metadata": {},
   "source": [
    "# hierarchical"
   ]
  },
  {
   "cell_type": "code",
   "execution_count": 27,
   "metadata": {},
   "outputs": [],
   "source": [
    "from sklearn.cluster import AgglomerativeClustering "
   ]
  },
  {
   "cell_type": "code",
   "execution_count": 31,
   "metadata": {},
   "outputs": [],
   "source": [
    "from scipy.cluster.hierarchy import cophenet, dendrogram, linkage"
   ]
  },
  {
   "cell_type": "code",
   "execution_count": 32,
   "metadata": {},
   "outputs": [],
   "source": [
    "from scipy.spatial.distance import pdist  #Pairwise distribution between data points"
   ]
  },
  {
   "cell_type": "code",
   "execution_count": 46,
   "metadata": {},
   "outputs": [],
   "source": [
    "df1=df.drop('group',axis=1)"
   ]
  },
  {
   "cell_type": "code",
   "execution_count": 47,
   "metadata": {},
   "outputs": [
    {
     "data": {
      "text/html": [
       "<div>\n",
       "<style scoped>\n",
       "    .dataframe tbody tr th:only-of-type {\n",
       "        vertical-align: middle;\n",
       "    }\n",
       "\n",
       "    .dataframe tbody tr th {\n",
       "        vertical-align: top;\n",
       "    }\n",
       "\n",
       "    .dataframe thead th {\n",
       "        text-align: right;\n",
       "    }\n",
       "</style>\n",
       "<table border=\"1\" class=\"dataframe\">\n",
       "  <thead>\n",
       "    <tr style=\"text-align: right;\">\n",
       "      <th></th>\n",
       "      <th>instr</th>\n",
       "      <th>class</th>\n",
       "      <th>nb.repeat</th>\n",
       "      <th>attendance</th>\n",
       "      <th>difficulty</th>\n",
       "      <th>Q1</th>\n",
       "      <th>Q2</th>\n",
       "      <th>Q3</th>\n",
       "      <th>Q4</th>\n",
       "      <th>Q5</th>\n",
       "      <th>...</th>\n",
       "      <th>Q19</th>\n",
       "      <th>Q20</th>\n",
       "      <th>Q21</th>\n",
       "      <th>Q22</th>\n",
       "      <th>Q23</th>\n",
       "      <th>Q24</th>\n",
       "      <th>Q25</th>\n",
       "      <th>Q26</th>\n",
       "      <th>Q27</th>\n",
       "      <th>Q28</th>\n",
       "    </tr>\n",
       "  </thead>\n",
       "  <tbody>\n",
       "    <tr>\n",
       "      <th>0</th>\n",
       "      <td>-2.06785</td>\n",
       "      <td>-1.430719</td>\n",
       "      <td>-0.402174</td>\n",
       "      <td>-1.136118</td>\n",
       "      <td>0.901862</td>\n",
       "      <td>0.052278</td>\n",
       "      <td>-0.05749</td>\n",
       "      <td>-0.142561</td>\n",
       "      <td>-0.064208</td>\n",
       "      <td>-0.082761</td>\n",
       "      <td>...</td>\n",
       "      <td>-0.206321</td>\n",
       "      <td>-0.223535</td>\n",
       "      <td>-0.242064</td>\n",
       "      <td>-0.250365</td>\n",
       "      <td>-0.158659</td>\n",
       "      <td>-0.130772</td>\n",
       "      <td>-0.248607</td>\n",
       "      <td>-0.174852</td>\n",
       "      <td>-0.119845</td>\n",
       "      <td>-0.240948</td>\n",
       "    </tr>\n",
       "    <tr>\n",
       "      <th>1</th>\n",
       "      <td>-2.06785</td>\n",
       "      <td>-1.430719</td>\n",
       "      <td>-0.402174</td>\n",
       "      <td>-0.458082</td>\n",
       "      <td>0.160501</td>\n",
       "      <td>0.052278</td>\n",
       "      <td>-0.05749</td>\n",
       "      <td>-0.142561</td>\n",
       "      <td>-0.064208</td>\n",
       "      <td>-0.082761</td>\n",
       "      <td>...</td>\n",
       "      <td>-0.206321</td>\n",
       "      <td>-0.223535</td>\n",
       "      <td>-0.242064</td>\n",
       "      <td>-0.250365</td>\n",
       "      <td>-0.158659</td>\n",
       "      <td>-0.130772</td>\n",
       "      <td>-0.248607</td>\n",
       "      <td>-0.174852</td>\n",
       "      <td>-0.119845</td>\n",
       "      <td>-0.240948</td>\n",
       "    </tr>\n",
       "    <tr>\n",
       "      <th>2</th>\n",
       "      <td>-2.06785</td>\n",
       "      <td>-1.430719</td>\n",
       "      <td>-0.402174</td>\n",
       "      <td>0.219954</td>\n",
       "      <td>0.901862</td>\n",
       "      <td>1.543745</td>\n",
       "      <td>1.49876</td>\n",
       "      <td>1.453023</td>\n",
       "      <td>1.492837</td>\n",
       "      <td>1.481107</td>\n",
       "      <td>...</td>\n",
       "      <td>1.370552</td>\n",
       "      <td>1.342957</td>\n",
       "      <td>1.332907</td>\n",
       "      <td>1.326612</td>\n",
       "      <td>1.413075</td>\n",
       "      <td>1.436873</td>\n",
       "      <td>1.342258</td>\n",
       "      <td>1.399225</td>\n",
       "      <td>1.428430</td>\n",
       "      <td>1.323265</td>\n",
       "    </tr>\n",
       "  </tbody>\n",
       "</table>\n",
       "<p>3 rows × 33 columns</p>\n",
       "</div>"
      ],
      "text/plain": [
       "     instr     class  nb.repeat  attendance  difficulty        Q1       Q2  \\\n",
       "0 -2.06785 -1.430719  -0.402174   -1.136118    0.901862  0.052278 -0.05749   \n",
       "1 -2.06785 -1.430719  -0.402174   -0.458082    0.160501  0.052278 -0.05749   \n",
       "2 -2.06785 -1.430719  -0.402174    0.219954    0.901862  1.543745  1.49876   \n",
       "\n",
       "         Q3        Q4        Q5  ...       Q19       Q20       Q21       Q22  \\\n",
       "0 -0.142561 -0.064208 -0.082761  ... -0.206321 -0.223535 -0.242064 -0.250365   \n",
       "1 -0.142561 -0.064208 -0.082761  ... -0.206321 -0.223535 -0.242064 -0.250365   \n",
       "2  1.453023  1.492837  1.481107  ...  1.370552  1.342957  1.332907  1.326612   \n",
       "\n",
       "        Q23       Q24       Q25       Q26       Q27       Q28  \n",
       "0 -0.158659 -0.130772 -0.248607 -0.174852 -0.119845 -0.240948  \n",
       "1 -0.158659 -0.130772 -0.248607 -0.174852 -0.119845 -0.240948  \n",
       "2  1.413075  1.436873  1.342258  1.399225  1.428430  1.323265  \n",
       "\n",
       "[3 rows x 33 columns]"
      ]
     },
     "execution_count": 47,
     "metadata": {},
     "output_type": "execute_result"
    }
   ],
   "source": [
    "df1.head(3)"
   ]
  },
  {
   "cell_type": "code",
   "execution_count": 50,
   "metadata": {},
   "outputs": [
    {
     "data": {
      "text/plain": [
       "0.5977744181820899"
      ]
     },
     "execution_count": 50,
     "metadata": {},
     "output_type": "execute_result"
    }
   ],
   "source": [
    "Z = linkage(df, 'ward')\n",
    "c, coph_dists = cophenet(Z , pdist(df1))\n",
    "\n",
    "c"
   ]
  },
  {
   "cell_type": "code",
   "execution_count": 51,
   "metadata": {},
   "outputs": [
    {
     "data": {
      "image/png": "[encoded data removed]",
      "text/plain": [
       "<Figure size 720x720 with 1 Axes>"
      ]
     },
     "metadata": {
      "needs_background": "light"
     },
     "output_type": "display_data"
    }
   ],
   "source": [
    "plt.figure(figsize=(10, 10))\n",
    "plt.title('Agglomerative Hierarchical Clustering Dendogram')\n",
    "plt.xlabel('sample index')\n",
    "plt.ylabel('Distance')\n",
    "dendrogram(Z, leaf_rotation=90.,color_threshold = 40, leaf_font_size=8. )\n",
    "plt.tight_layout()"
   ]
  },
  {
   "cell_type": "code",
   "execution_count": 52,
   "metadata": {},
   "outputs": [],
   "source": [
    "model = AgglomerativeClustering(n_clusters=4, affinity='euclidean',  linkage='ward')"
   ]
  },
  {
   "cell_type": "code",
   "execution_count": 53,
   "metadata": {},
   "outputs": [
    {
     "data": {
      "text/plain": [
       "AgglomerativeClustering(affinity='euclidean', compute_full_tree='auto',\n",
       "                        connectivity=None, distance_threshold=None,\n",
       "                        linkage='ward', memory=None, n_clusters=4,\n",
       "                        pooling_func='deprecated')"
      ]
     },
     "execution_count": 53,
     "metadata": {},
     "output_type": "execute_result"
    }
   ],
   "source": [
    "model.fit(df1)"
   ]
  },
  {
   "cell_type": "code",
   "execution_count": 54,
   "metadata": {},
   "outputs": [
    {
     "data": {
      "text/html": [
       "<div>\n",
       "<style scoped>\n",
       "    .dataframe tbody tr th:only-of-type {\n",
       "        vertical-align: middle;\n",
       "    }\n",
       "\n",
       "    .dataframe tbody tr th {\n",
       "        vertical-align: top;\n",
       "    }\n",
       "\n",
       "    .dataframe thead th {\n",
       "        text-align: right;\n",
       "    }\n",
       "</style>\n",
       "<table border=\"1\" class=\"dataframe\">\n",
       "  <thead>\n",
       "    <tr style=\"text-align: right;\">\n",
       "      <th></th>\n",
       "      <th>instr</th>\n",
       "      <th>class</th>\n",
       "      <th>nb.repeat</th>\n",
       "      <th>attendance</th>\n",
       "      <th>difficulty</th>\n",
       "      <th>Q1</th>\n",
       "      <th>Q2</th>\n",
       "      <th>Q3</th>\n",
       "      <th>Q4</th>\n",
       "      <th>Q5</th>\n",
       "      <th>...</th>\n",
       "      <th>Q20</th>\n",
       "      <th>Q21</th>\n",
       "      <th>Q22</th>\n",
       "      <th>Q23</th>\n",
       "      <th>Q24</th>\n",
       "      <th>Q25</th>\n",
       "      <th>Q26</th>\n",
       "      <th>Q27</th>\n",
       "      <th>Q28</th>\n",
       "      <th>labels</th>\n",
       "    </tr>\n",
       "  </thead>\n",
       "  <tbody>\n",
       "    <tr>\n",
       "      <th>0</th>\n",
       "      <td>-2.06785</td>\n",
       "      <td>-1.430719</td>\n",
       "      <td>-0.402174</td>\n",
       "      <td>-1.136118</td>\n",
       "      <td>0.901862</td>\n",
       "      <td>0.052278</td>\n",
       "      <td>-0.05749</td>\n",
       "      <td>-0.142561</td>\n",
       "      <td>-0.064208</td>\n",
       "      <td>-0.082761</td>\n",
       "      <td>...</td>\n",
       "      <td>-0.223535</td>\n",
       "      <td>-0.242064</td>\n",
       "      <td>-0.250365</td>\n",
       "      <td>-0.158659</td>\n",
       "      <td>-0.130772</td>\n",
       "      <td>-0.248607</td>\n",
       "      <td>-0.174852</td>\n",
       "      <td>-0.119845</td>\n",
       "      <td>-0.240948</td>\n",
       "      <td>2</td>\n",
       "    </tr>\n",
       "    <tr>\n",
       "      <th>1</th>\n",
       "      <td>-2.06785</td>\n",
       "      <td>-1.430719</td>\n",
       "      <td>-0.402174</td>\n",
       "      <td>-0.458082</td>\n",
       "      <td>0.160501</td>\n",
       "      <td>0.052278</td>\n",
       "      <td>-0.05749</td>\n",
       "      <td>-0.142561</td>\n",
       "      <td>-0.064208</td>\n",
       "      <td>-0.082761</td>\n",
       "      <td>...</td>\n",
       "      <td>-0.223535</td>\n",
       "      <td>-0.242064</td>\n",
       "      <td>-0.250365</td>\n",
       "      <td>-0.158659</td>\n",
       "      <td>-0.130772</td>\n",
       "      <td>-0.248607</td>\n",
       "      <td>-0.174852</td>\n",
       "      <td>-0.119845</td>\n",
       "      <td>-0.240948</td>\n",
       "      <td>2</td>\n",
       "    </tr>\n",
       "    <tr>\n",
       "      <th>2</th>\n",
       "      <td>-2.06785</td>\n",
       "      <td>-1.430719</td>\n",
       "      <td>-0.402174</td>\n",
       "      <td>0.219954</td>\n",
       "      <td>0.901862</td>\n",
       "      <td>1.543745</td>\n",
       "      <td>1.49876</td>\n",
       "      <td>1.453023</td>\n",
       "      <td>1.492837</td>\n",
       "      <td>1.481107</td>\n",
       "      <td>...</td>\n",
       "      <td>1.342957</td>\n",
       "      <td>1.332907</td>\n",
       "      <td>1.326612</td>\n",
       "      <td>1.413075</td>\n",
       "      <td>1.436873</td>\n",
       "      <td>1.342258</td>\n",
       "      <td>1.399225</td>\n",
       "      <td>1.428430</td>\n",
       "      <td>1.323265</td>\n",
       "      <td>0</td>\n",
       "    </tr>\n",
       "  </tbody>\n",
       "</table>\n",
       "<p>3 rows × 34 columns</p>\n",
       "</div>"
      ],
      "text/plain": [
       "     instr     class  nb.repeat  attendance  difficulty        Q1       Q2  \\\n",
       "0 -2.06785 -1.430719  -0.402174   -1.136118    0.901862  0.052278 -0.05749   \n",
       "1 -2.06785 -1.430719  -0.402174   -0.458082    0.160501  0.052278 -0.05749   \n",
       "2 -2.06785 -1.430719  -0.402174    0.219954    0.901862  1.543745  1.49876   \n",
       "\n",
       "         Q3        Q4        Q5  ...       Q20       Q21       Q22       Q23  \\\n",
       "0 -0.142561 -0.064208 -0.082761  ... -0.223535 -0.242064 -0.250365 -0.158659   \n",
       "1 -0.142561 -0.064208 -0.082761  ... -0.223535 -0.242064 -0.250365 -0.158659   \n",
       "2  1.453023  1.492837  1.481107  ...  1.342957  1.332907  1.326612  1.413075   \n",
       "\n",
       "        Q24       Q25       Q26       Q27       Q28  labels  \n",
       "0 -0.130772 -0.248607 -0.174852 -0.119845 -0.240948       2  \n",
       "1 -0.130772 -0.248607 -0.174852 -0.119845 -0.240948       2  \n",
       "2  1.436873  1.342258  1.399225  1.428430  1.323265       0  \n",
       "\n",
       "[3 rows x 34 columns]"
      ]
     },
     "execution_count": 54,
     "metadata": {},
     "output_type": "execute_result"
    }
   ],
   "source": [
    "df1['labels'] = model.labels_\n",
    "df1.head(3)"
   ]
  },
  {
   "cell_type": "markdown",
   "metadata": {},
   "source": [
    "# unsupervised data to supervised data"
   ]
  },
  {
   "cell_type": "code",
   "execution_count": 67,
   "metadata": {},
   "outputs": [
    {
     "data": {
      "text/html": [
       "<div>\n",
       "<style scoped>\n",
       "    .dataframe tbody tr th:only-of-type {\n",
       "        vertical-align: middle;\n",
       "    }\n",
       "\n",
       "    .dataframe tbody tr th {\n",
       "        vertical-align: top;\n",
       "    }\n",
       "\n",
       "    .dataframe thead th {\n",
       "        text-align: right;\n",
       "    }\n",
       "</style>\n",
       "<table border=\"1\" class=\"dataframe\">\n",
       "  <thead>\n",
       "    <tr style=\"text-align: right;\">\n",
       "      <th></th>\n",
       "      <th>instr</th>\n",
       "      <th>class</th>\n",
       "      <th>nb.repeat</th>\n",
       "      <th>attendance</th>\n",
       "      <th>difficulty</th>\n",
       "      <th>Q1</th>\n",
       "      <th>Q2</th>\n",
       "      <th>Q3</th>\n",
       "      <th>Q4</th>\n",
       "      <th>Q5</th>\n",
       "      <th>...</th>\n",
       "      <th>Q20</th>\n",
       "      <th>Q21</th>\n",
       "      <th>Q22</th>\n",
       "      <th>Q23</th>\n",
       "      <th>Q24</th>\n",
       "      <th>Q25</th>\n",
       "      <th>Q26</th>\n",
       "      <th>Q27</th>\n",
       "      <th>Q28</th>\n",
       "      <th>group</th>\n",
       "    </tr>\n",
       "  </thead>\n",
       "  <tbody>\n",
       "    <tr>\n",
       "      <th>0</th>\n",
       "      <td>-2.06785</td>\n",
       "      <td>-1.430719</td>\n",
       "      <td>-0.402174</td>\n",
       "      <td>-1.136118</td>\n",
       "      <td>0.901862</td>\n",
       "      <td>0.052278</td>\n",
       "      <td>-0.05749</td>\n",
       "      <td>-0.142561</td>\n",
       "      <td>-0.064208</td>\n",
       "      <td>-0.082761</td>\n",
       "      <td>...</td>\n",
       "      <td>-0.223535</td>\n",
       "      <td>-0.242064</td>\n",
       "      <td>-0.250365</td>\n",
       "      <td>-0.158659</td>\n",
       "      <td>-0.130772</td>\n",
       "      <td>-0.248607</td>\n",
       "      <td>-0.174852</td>\n",
       "      <td>-0.119845</td>\n",
       "      <td>-0.240948</td>\n",
       "      <td>3</td>\n",
       "    </tr>\n",
       "    <tr>\n",
       "      <th>1</th>\n",
       "      <td>-2.06785</td>\n",
       "      <td>-1.430719</td>\n",
       "      <td>-0.402174</td>\n",
       "      <td>-0.458082</td>\n",
       "      <td>0.160501</td>\n",
       "      <td>0.052278</td>\n",
       "      <td>-0.05749</td>\n",
       "      <td>-0.142561</td>\n",
       "      <td>-0.064208</td>\n",
       "      <td>-0.082761</td>\n",
       "      <td>...</td>\n",
       "      <td>-0.223535</td>\n",
       "      <td>-0.242064</td>\n",
       "      <td>-0.250365</td>\n",
       "      <td>-0.158659</td>\n",
       "      <td>-0.130772</td>\n",
       "      <td>-0.248607</td>\n",
       "      <td>-0.174852</td>\n",
       "      <td>-0.119845</td>\n",
       "      <td>-0.240948</td>\n",
       "      <td>3</td>\n",
       "    </tr>\n",
       "    <tr>\n",
       "      <th>2</th>\n",
       "      <td>-2.06785</td>\n",
       "      <td>-1.430719</td>\n",
       "      <td>-0.402174</td>\n",
       "      <td>0.219954</td>\n",
       "      <td>0.901862</td>\n",
       "      <td>1.543745</td>\n",
       "      <td>1.49876</td>\n",
       "      <td>1.453023</td>\n",
       "      <td>1.492837</td>\n",
       "      <td>1.481107</td>\n",
       "      <td>...</td>\n",
       "      <td>1.342957</td>\n",
       "      <td>1.332907</td>\n",
       "      <td>1.326612</td>\n",
       "      <td>1.413075</td>\n",
       "      <td>1.436873</td>\n",
       "      <td>1.342258</td>\n",
       "      <td>1.399225</td>\n",
       "      <td>1.428430</td>\n",
       "      <td>1.323265</td>\n",
       "      <td>0</td>\n",
       "    </tr>\n",
       "    <tr>\n",
       "      <th>3</th>\n",
       "      <td>-2.06785</td>\n",
       "      <td>-1.430719</td>\n",
       "      <td>-0.402174</td>\n",
       "      <td>-0.458082</td>\n",
       "      <td>0.160501</td>\n",
       "      <td>0.052278</td>\n",
       "      <td>-0.05749</td>\n",
       "      <td>-0.142561</td>\n",
       "      <td>-0.064208</td>\n",
       "      <td>-0.082761</td>\n",
       "      <td>...</td>\n",
       "      <td>-0.223535</td>\n",
       "      <td>-0.242064</td>\n",
       "      <td>-0.250365</td>\n",
       "      <td>-0.158659</td>\n",
       "      <td>-0.130772</td>\n",
       "      <td>-0.248607</td>\n",
       "      <td>-0.174852</td>\n",
       "      <td>-0.119845</td>\n",
       "      <td>-0.240948</td>\n",
       "      <td>3</td>\n",
       "    </tr>\n",
       "    <tr>\n",
       "      <th>4</th>\n",
       "      <td>-2.06785</td>\n",
       "      <td>-1.430719</td>\n",
       "      <td>-0.402174</td>\n",
       "      <td>-1.136118</td>\n",
       "      <td>-1.322221</td>\n",
       "      <td>-1.439189</td>\n",
       "      <td>-1.61374</td>\n",
       "      <td>-1.738145</td>\n",
       "      <td>-1.621254</td>\n",
       "      <td>-1.646630</td>\n",
       "      <td>...</td>\n",
       "      <td>-1.790026</td>\n",
       "      <td>-1.817034</td>\n",
       "      <td>-1.827343</td>\n",
       "      <td>-1.730392</td>\n",
       "      <td>-1.698417</td>\n",
       "      <td>-1.839472</td>\n",
       "      <td>-1.748929</td>\n",
       "      <td>-1.668120</td>\n",
       "      <td>-1.805160</td>\n",
       "      <td>1</td>\n",
       "    </tr>\n",
       "  </tbody>\n",
       "</table>\n",
       "<p>5 rows × 34 columns</p>\n",
       "</div>"
      ],
      "text/plain": [
       "     instr     class  nb.repeat  attendance  difficulty        Q1       Q2  \\\n",
       "0 -2.06785 -1.430719  -0.402174   -1.136118    0.901862  0.052278 -0.05749   \n",
       "1 -2.06785 -1.430719  -0.402174   -0.458082    0.160501  0.052278 -0.05749   \n",
       "2 -2.06785 -1.430719  -0.402174    0.219954    0.901862  1.543745  1.49876   \n",
       "3 -2.06785 -1.430719  -0.402174   -0.458082    0.160501  0.052278 -0.05749   \n",
       "4 -2.06785 -1.430719  -0.402174   -1.136118   -1.322221 -1.439189 -1.61374   \n",
       "\n",
       "         Q3        Q4        Q5  ...       Q20       Q21       Q22       Q23  \\\n",
       "0 -0.142561 -0.064208 -0.082761  ... -0.223535 -0.242064 -0.250365 -0.158659   \n",
       "1 -0.142561 -0.064208 -0.082761  ... -0.223535 -0.242064 -0.250365 -0.158659   \n",
       "2  1.453023  1.492837  1.481107  ...  1.342957  1.332907  1.326612  1.413075   \n",
       "3 -0.142561 -0.064208 -0.082761  ... -0.223535 -0.242064 -0.250365 -0.158659   \n",
       "4 -1.738145 -1.621254 -1.646630  ... -1.790026 -1.817034 -1.827343 -1.730392   \n",
       "\n",
       "        Q24       Q25       Q26       Q27       Q28  group  \n",
       "0 -0.130772 -0.248607 -0.174852 -0.119845 -0.240948      3  \n",
       "1 -0.130772 -0.248607 -0.174852 -0.119845 -0.240948      3  \n",
       "2  1.436873  1.342258  1.399225  1.428430  1.323265      0  \n",
       "3 -0.130772 -0.248607 -0.174852 -0.119845 -0.240948      3  \n",
       "4 -1.698417 -1.839472 -1.748929 -1.668120 -1.805160      1  \n",
       "\n",
       "[5 rows x 34 columns]"
      ]
     },
     "execution_count": 67,
     "metadata": {},
     "output_type": "execute_result"
    }
   ],
   "source": [
    "df.head() # on the kmeans section we add the group to the data \n",
    "# we created a target variable in this way"
   ]
  },
  {
   "cell_type": "code",
   "execution_count": null,
   "metadata": {},
   "outputs": [],
   "source": []
  },
  {
   "cell_type": "code",
   "execution_count": null,
   "metadata": {},
   "outputs": [],
   "source": []
  },
  {
   "cell_type": "markdown",
   "metadata": {},
   "source": [
    "# apply PCA"
   ]
  },
  {
   "cell_type": "markdown",
   "metadata": {},
   "source": [
    "lets begin clustering of students based on the questionary data"
   ]
  },
  {
   "cell_type": "code",
   "execution_count": 118,
   "metadata": {},
   "outputs": [],
   "source": [
    "df_q=df.iloc[:,5:33]"
   ]
  },
  {
   "cell_type": "code",
   "execution_count": 56,
   "metadata": {},
   "outputs": [
    {
     "data": {
      "text/html": [
       "<div>\n",
       "<style scoped>\n",
       "    .dataframe tbody tr th:only-of-type {\n",
       "        vertical-align: middle;\n",
       "    }\n",
       "\n",
       "    .dataframe tbody tr th {\n",
       "        vertical-align: top;\n",
       "    }\n",
       "\n",
       "    .dataframe thead th {\n",
       "        text-align: right;\n",
       "    }\n",
       "</style>\n",
       "<table border=\"1\" class=\"dataframe\">\n",
       "  <thead>\n",
       "    <tr style=\"text-align: right;\">\n",
       "      <th></th>\n",
       "      <th>Q1</th>\n",
       "      <th>Q2</th>\n",
       "      <th>Q3</th>\n",
       "      <th>Q4</th>\n",
       "      <th>Q5</th>\n",
       "      <th>Q6</th>\n",
       "      <th>Q7</th>\n",
       "      <th>Q8</th>\n",
       "      <th>Q9</th>\n",
       "      <th>Q10</th>\n",
       "      <th>...</th>\n",
       "      <th>Q19</th>\n",
       "      <th>Q20</th>\n",
       "      <th>Q21</th>\n",
       "      <th>Q22</th>\n",
       "      <th>Q23</th>\n",
       "      <th>Q24</th>\n",
       "      <th>Q25</th>\n",
       "      <th>Q26</th>\n",
       "      <th>Q27</th>\n",
       "      <th>Q28</th>\n",
       "    </tr>\n",
       "  </thead>\n",
       "  <tbody>\n",
       "    <tr>\n",
       "      <th>0</th>\n",
       "      <td>0.052278</td>\n",
       "      <td>-0.05749</td>\n",
       "      <td>-0.142561</td>\n",
       "      <td>-0.064208</td>\n",
       "      <td>-0.082761</td>\n",
       "      <td>-0.083851</td>\n",
       "      <td>-0.051856</td>\n",
       "      <td>-0.032667</td>\n",
       "      <td>-0.130814</td>\n",
       "      <td>-0.071143</td>\n",
       "      <td>...</td>\n",
       "      <td>-0.206321</td>\n",
       "      <td>-0.223535</td>\n",
       "      <td>-0.242064</td>\n",
       "      <td>-0.250365</td>\n",
       "      <td>-0.158659</td>\n",
       "      <td>-0.130772</td>\n",
       "      <td>-0.248607</td>\n",
       "      <td>-0.174852</td>\n",
       "      <td>-0.119845</td>\n",
       "      <td>-0.240948</td>\n",
       "    </tr>\n",
       "    <tr>\n",
       "      <th>1</th>\n",
       "      <td>0.052278</td>\n",
       "      <td>-0.05749</td>\n",
       "      <td>-0.142561</td>\n",
       "      <td>-0.064208</td>\n",
       "      <td>-0.082761</td>\n",
       "      <td>-0.083851</td>\n",
       "      <td>-0.051856</td>\n",
       "      <td>-0.032667</td>\n",
       "      <td>-0.130814</td>\n",
       "      <td>-0.071143</td>\n",
       "      <td>...</td>\n",
       "      <td>-0.206321</td>\n",
       "      <td>-0.223535</td>\n",
       "      <td>-0.242064</td>\n",
       "      <td>-0.250365</td>\n",
       "      <td>-0.158659</td>\n",
       "      <td>-0.130772</td>\n",
       "      <td>-0.248607</td>\n",
       "      <td>-0.174852</td>\n",
       "      <td>-0.119845</td>\n",
       "      <td>-0.240948</td>\n",
       "    </tr>\n",
       "    <tr>\n",
       "      <th>2</th>\n",
       "      <td>1.543745</td>\n",
       "      <td>1.49876</td>\n",
       "      <td>1.453023</td>\n",
       "      <td>1.492837</td>\n",
       "      <td>1.481107</td>\n",
       "      <td>1.477798</td>\n",
       "      <td>1.511882</td>\n",
       "      <td>1.525729</td>\n",
       "      <td>1.445452</td>\n",
       "      <td>1.497239</td>\n",
       "      <td>...</td>\n",
       "      <td>1.370552</td>\n",
       "      <td>1.342957</td>\n",
       "      <td>1.332907</td>\n",
       "      <td>1.326612</td>\n",
       "      <td>1.413075</td>\n",
       "      <td>1.436873</td>\n",
       "      <td>1.342258</td>\n",
       "      <td>1.399225</td>\n",
       "      <td>1.428430</td>\n",
       "      <td>1.323265</td>\n",
       "    </tr>\n",
       "    <tr>\n",
       "      <th>3</th>\n",
       "      <td>0.052278</td>\n",
       "      <td>-0.05749</td>\n",
       "      <td>-0.142561</td>\n",
       "      <td>-0.064208</td>\n",
       "      <td>-0.082761</td>\n",
       "      <td>-0.083851</td>\n",
       "      <td>-0.051856</td>\n",
       "      <td>-0.032667</td>\n",
       "      <td>-0.130814</td>\n",
       "      <td>-0.071143</td>\n",
       "      <td>...</td>\n",
       "      <td>-0.206321</td>\n",
       "      <td>-0.223535</td>\n",
       "      <td>-0.242064</td>\n",
       "      <td>-0.250365</td>\n",
       "      <td>-0.158659</td>\n",
       "      <td>-0.130772</td>\n",
       "      <td>-0.248607</td>\n",
       "      <td>-0.174852</td>\n",
       "      <td>-0.119845</td>\n",
       "      <td>-0.240948</td>\n",
       "    </tr>\n",
       "    <tr>\n",
       "      <th>4</th>\n",
       "      <td>-1.439189</td>\n",
       "      <td>-1.61374</td>\n",
       "      <td>-1.738145</td>\n",
       "      <td>-1.621254</td>\n",
       "      <td>-1.646630</td>\n",
       "      <td>-1.645501</td>\n",
       "      <td>-1.615594</td>\n",
       "      <td>-1.591064</td>\n",
       "      <td>-1.707080</td>\n",
       "      <td>-1.639525</td>\n",
       "      <td>...</td>\n",
       "      <td>-1.783194</td>\n",
       "      <td>-1.790026</td>\n",
       "      <td>-1.817034</td>\n",
       "      <td>-1.827343</td>\n",
       "      <td>-1.730392</td>\n",
       "      <td>-1.698417</td>\n",
       "      <td>-1.839472</td>\n",
       "      <td>-1.748929</td>\n",
       "      <td>-1.668120</td>\n",
       "      <td>-1.805160</td>\n",
       "    </tr>\n",
       "  </tbody>\n",
       "</table>\n",
       "<p>5 rows × 28 columns</p>\n",
       "</div>"
      ],
      "text/plain": [
       "         Q1       Q2        Q3        Q4        Q5        Q6        Q7  \\\n",
       "0  0.052278 -0.05749 -0.142561 -0.064208 -0.082761 -0.083851 -0.051856   \n",
       "1  0.052278 -0.05749 -0.142561 -0.064208 -0.082761 -0.083851 -0.051856   \n",
       "2  1.543745  1.49876  1.453023  1.492837  1.481107  1.477798  1.511882   \n",
       "3  0.052278 -0.05749 -0.142561 -0.064208 -0.082761 -0.083851 -0.051856   \n",
       "4 -1.439189 -1.61374 -1.738145 -1.621254 -1.646630 -1.645501 -1.615594   \n",
       "\n",
       "         Q8        Q9       Q10  ...       Q19       Q20       Q21       Q22  \\\n",
       "0 -0.032667 -0.130814 -0.071143  ... -0.206321 -0.223535 -0.242064 -0.250365   \n",
       "1 -0.032667 -0.130814 -0.071143  ... -0.206321 -0.223535 -0.242064 -0.250365   \n",
       "2  1.525729  1.445452  1.497239  ...  1.370552  1.342957  1.332907  1.326612   \n",
       "3 -0.032667 -0.130814 -0.071143  ... -0.206321 -0.223535 -0.242064 -0.250365   \n",
       "4 -1.591064 -1.707080 -1.639525  ... -1.783194 -1.790026 -1.817034 -1.827343   \n",
       "\n",
       "        Q23       Q24       Q25       Q26       Q27       Q28  \n",
       "0 -0.158659 -0.130772 -0.248607 -0.174852 -0.119845 -0.240948  \n",
       "1 -0.158659 -0.130772 -0.248607 -0.174852 -0.119845 -0.240948  \n",
       "2  1.413075  1.436873  1.342258  1.399225  1.428430  1.323265  \n",
       "3 -0.158659 -0.130772 -0.248607 -0.174852 -0.119845 -0.240948  \n",
       "4 -1.730392 -1.698417 -1.839472 -1.748929 -1.668120 -1.805160  \n",
       "\n",
       "[5 rows x 28 columns]"
      ]
     },
     "execution_count": 56,
     "metadata": {},
     "output_type": "execute_result"
    }
   ],
   "source": [
    "df_q.head()"
   ]
  },
  {
   "cell_type": "code",
   "execution_count": 57,
   "metadata": {},
   "outputs": [],
   "source": [
    "from sklearn.decomposition import PCA\n",
    "pca = PCA(n_components = 2)\n",
    "dfq_pca = pca.fit_transform(df_q)"
   ]
  },
  {
   "cell_type": "code",
   "execution_count": 93,
   "metadata": {},
   "outputs": [
    {
     "data": {
      "text/plain": [
       "(5820, 2)"
      ]
     },
     "execution_count": 93,
     "metadata": {},
     "output_type": "execute_result"
    }
   ],
   "source": [
    "dfq_pca.shape"
   ]
  },
  {
   "cell_type": "code",
   "execution_count": 94,
   "metadata": {},
   "outputs": [
    {
     "data": {
      "text/html": [
       "<div>\n",
       "<style scoped>\n",
       "    .dataframe tbody tr th:only-of-type {\n",
       "        vertical-align: middle;\n",
       "    }\n",
       "\n",
       "    .dataframe tbody tr th {\n",
       "        vertical-align: top;\n",
       "    }\n",
       "\n",
       "    .dataframe thead th {\n",
       "        text-align: right;\n",
       "    }\n",
       "</style>\n",
       "<table border=\"1\" class=\"dataframe\">\n",
       "  <thead>\n",
       "    <tr style=\"text-align: right;\">\n",
       "      <th></th>\n",
       "      <th>pc1</th>\n",
       "      <th>pc2</th>\n",
       "    </tr>\n",
       "  </thead>\n",
       "  <tbody>\n",
       "    <tr>\n",
       "      <th>0</th>\n",
       "      <td>0.782875</td>\n",
       "      <td>0.405017</td>\n",
       "    </tr>\n",
       "    <tr>\n",
       "      <th>1</th>\n",
       "      <td>0.782875</td>\n",
       "      <td>0.405017</td>\n",
       "    </tr>\n",
       "    <tr>\n",
       "      <th>2</th>\n",
       "      <td>-7.501799</td>\n",
       "      <td>0.501474</td>\n",
       "    </tr>\n",
       "    <tr>\n",
       "      <th>3</th>\n",
       "      <td>0.782875</td>\n",
       "      <td>0.405017</td>\n",
       "    </tr>\n",
       "    <tr>\n",
       "      <th>4</th>\n",
       "      <td>9.067549</td>\n",
       "      <td>0.308561</td>\n",
       "    </tr>\n",
       "  </tbody>\n",
       "</table>\n",
       "</div>"
      ],
      "text/plain": [
       "        pc1       pc2\n",
       "0  0.782875  0.405017\n",
       "1  0.782875  0.405017\n",
       "2 -7.501799  0.501474\n",
       "3  0.782875  0.405017\n",
       "4  9.067549  0.308561"
      ]
     },
     "execution_count": 94,
     "metadata": {},
     "output_type": "execute_result"
    }
   ],
   "source": [
    "pcdf=pd.DataFrame(data=dfq_pca,columns=['pc1','pc2'])\n",
    "pcdf.head()"
   ]
  },
  {
   "cell_type": "code",
   "execution_count": 59,
   "metadata": {},
   "outputs": [
    {
     "data": {
      "image/png": "[encoded data removed]",
      "text/plain": [
       "<Figure size 432x288 with 1 Axes>"
      ]
     },
     "metadata": {
      "needs_background": "light"
     },
     "output_type": "display_data"
    }
   ],
   "source": [
    "from sklearn.cluster import KMeans\n",
    "wcss = []\n",
    "for i in range(1, 7):\n",
    "    kmeans = KMeans(n_clusters = i, init = 'k-means++', random_state = 42)\n",
    "    kmeans.fit(dfq_pca)\n",
    "    wcss.append(kmeans.inertia_)\n",
    "plt.plot(range(1, 7), wcss)\n",
    "plt.title('The Elbow Method')\n",
    "plt.xlabel('Number of clusters')\n",
    "plt.show()"
   ]
  },
  {
   "cell_type": "code",
   "execution_count": 60,
   "metadata": {},
   "outputs": [],
   "source": [
    "kmeans = KMeans(n_clusters = 3, init = 'k-means++')\n",
    "y_kmeans = kmeans.fit_predict(dfq_pca)"
   ]
  },
  {
   "cell_type": "code",
   "execution_count": 96,
   "metadata": {},
   "outputs": [],
   "source": [
    "pcdf['label']=y_kmeans"
   ]
  },
  {
   "cell_type": "code",
   "execution_count": 97,
   "metadata": {},
   "outputs": [
    {
     "data": {
      "text/html": [
       "<div>\n",
       "<style scoped>\n",
       "    .dataframe tbody tr th:only-of-type {\n",
       "        vertical-align: middle;\n",
       "    }\n",
       "\n",
       "    .dataframe tbody tr th {\n",
       "        vertical-align: top;\n",
       "    }\n",
       "\n",
       "    .dataframe thead th {\n",
       "        text-align: right;\n",
       "    }\n",
       "</style>\n",
       "<table border=\"1\" class=\"dataframe\">\n",
       "  <thead>\n",
       "    <tr style=\"text-align: right;\">\n",
       "      <th></th>\n",
       "      <th>pc1</th>\n",
       "      <th>pc2</th>\n",
       "      <th>label</th>\n",
       "    </tr>\n",
       "  </thead>\n",
       "  <tbody>\n",
       "    <tr>\n",
       "      <th>0</th>\n",
       "      <td>0.782875</td>\n",
       "      <td>0.405017</td>\n",
       "      <td>0</td>\n",
       "    </tr>\n",
       "    <tr>\n",
       "      <th>1</th>\n",
       "      <td>0.782875</td>\n",
       "      <td>0.405017</td>\n",
       "      <td>0</td>\n",
       "    </tr>\n",
       "    <tr>\n",
       "      <th>2</th>\n",
       "      <td>-7.501799</td>\n",
       "      <td>0.501474</td>\n",
       "      <td>1</td>\n",
       "    </tr>\n",
       "    <tr>\n",
       "      <th>3</th>\n",
       "      <td>0.782875</td>\n",
       "      <td>0.405017</td>\n",
       "      <td>0</td>\n",
       "    </tr>\n",
       "    <tr>\n",
       "      <th>4</th>\n",
       "      <td>9.067549</td>\n",
       "      <td>0.308561</td>\n",
       "      <td>2</td>\n",
       "    </tr>\n",
       "  </tbody>\n",
       "</table>\n",
       "</div>"
      ],
      "text/plain": [
       "        pc1       pc2  label\n",
       "0  0.782875  0.405017      0\n",
       "1  0.782875  0.405017      0\n",
       "2 -7.501799  0.501474      1\n",
       "3  0.782875  0.405017      0\n",
       "4  9.067549  0.308561      2"
      ]
     },
     "execution_count": 97,
     "metadata": {},
     "output_type": "execute_result"
    }
   ],
   "source": [
    "pcdf.head()"
   ]
  },
  {
   "cell_type": "code",
   "execution_count": 61,
   "metadata": {},
   "outputs": [
    {
     "data": {
      "image/png": "[encoded data removed]",
      "text/plain": [
       "<Figure size 432x288 with 1 Axes>"
      ]
     },
     "metadata": {
      "needs_background": "light"
     },
     "output_type": "display_data"
    }
   ],
   "source": [
    "plt.scatter(dfq_pca[y_kmeans == 0, 0], dfq_pca[y_kmeans == 0, 1], s = 100, c = 'yellow', label = 'Cluster 1')\n",
    "plt.scatter(dfq_pca[y_kmeans == 1, 0], dfq_pca[y_kmeans == 1, 1], s = 100, c = 'green', label = 'Cluster 2')\n",
    "plt.scatter(dfq_pca[y_kmeans == 2, 0], dfq_pca[y_kmeans == 2, 1], s = 100, c = 'red', label = 'Cluster 3')\n",
    "plt.scatter(kmeans.cluster_centers_[:, 0], kmeans.cluster_centers_[:, 1], s = 300, c = 'blue', label = 'Centroids')\n",
    "plt.title('Clusters of students')\n",
    "plt.xlabel('PCA 1')\n",
    "plt.ylabel('PCA 2')\n",
    "plt.legend()\n",
    "plt.show()"
   ]
  },
  {
   "cell_type": "markdown",
   "metadata": {},
   "source": [
    "Looking at the above graph , i see we have 3 clusters of students who have given like Negative, Neutral and Positive\n",
    "feedback"
   ]
  },
  {
   "cell_type": "code",
   "execution_count": 62,
   "metadata": {},
   "outputs": [
    {
     "data": {
      "text/plain": [
       "Counter({0: 2364, 1: 2226, 2: 1230})"
      ]
     },
     "execution_count": 62,
     "metadata": {},
     "output_type": "execute_result"
    }
   ],
   "source": [
    "import collections\n",
    "collections.Counter(y_kmeans)"
   ]
  },
  {
   "cell_type": "markdown",
   "metadata": {},
   "source": [
    "So we have 2364 students who have given negative ratings overall , 2226 students with positive ratings and 1230 students with nuetral response"
   ]
  },
  {
   "cell_type": "code",
   "execution_count": 63,
   "metadata": {},
   "outputs": [
    {
     "data": {
      "image/png": "[encoded data removed]",
      "text/plain": [
       "<Figure size 432x288 with 1 Axes>"
      ]
     },
     "metadata": {
      "needs_background": "light"
     },
     "output_type": "display_data"
    }
   ],
   "source": [
    "# Using the dendrogram to find the optimal number of clusters\n",
    "import scipy.cluster.hierarchy as sch\n",
    "dendrogram = sch.dendrogram(sch.linkage(dfq_pca, method = 'ward'))\n",
    "plt.title('Dendrogram')\n",
    "plt.xlabel('questions')\n",
    "plt.ylabel('Euclidean distances')\n",
    "plt.show()"
   ]
  },
  {
   "cell_type": "code",
   "execution_count": 64,
   "metadata": {},
   "outputs": [
    {
     "data": {
      "image/png": "[encoded data removed]",
      "text/plain": [
       "<Figure size 432x288 with 1 Axes>"
      ]
     },
     "metadata": {
      "needs_background": "light"
     },
     "output_type": "display_data"
    }
   ],
   "source": [
    "from sklearn.cluster import AgglomerativeClustering\n",
    "hc = AgglomerativeClustering(n_clusters = 2, affinity = 'euclidean', linkage = 'ward')\n",
    "y_hc = hc.fit_predict(dfq_pca)\n",
    "X = dfq_pca\n",
    "# Visualising the clusters\n",
    "plt.scatter(X[y_hc == 0, 0], X[y_hc == 0, 1], s = 100, c = 'yellow', label = 'Cluster 1')\n",
    "plt.scatter(X[y_hc == 1, 0], X[y_hc == 1, 1], s = 100, c = 'red', label = 'Cluster 2')\n",
    "plt.title('Clusters of STUDENTS')\n",
    "plt.xlabel('PCA 1')\n",
    "plt.ylabel('PCA 2')\n",
    "plt.legend()\n",
    "plt.show()"
   ]
  },
  {
   "cell_type": "code",
   "execution_count": 65,
   "metadata": {},
   "outputs": [
    {
     "data": {
      "text/plain": [
       "Counter({0: 4400, 1: 1420})"
      ]
     },
     "execution_count": 65,
     "metadata": {},
     "output_type": "execute_result"
    }
   ],
   "source": [
    "collections.Counter(y_hc)"
   ]
  },
  {
   "cell_type": "markdown",
   "metadata": {},
   "source": [
    "# model building without PCA"
   ]
  },
  {
   "cell_type": "code",
   "execution_count": 68,
   "metadata": {},
   "outputs": [],
   "source": [
    "x=df.drop('group',axis=1)"
   ]
  },
  {
   "cell_type": "code",
   "execution_count": 69,
   "metadata": {},
   "outputs": [],
   "source": [
    "y=df['group']"
   ]
  },
  {
   "cell_type": "code",
   "execution_count": 84,
   "metadata": {},
   "outputs": [],
   "source": [
    " x_train,x_test,y_train,y_test=train_test_split(x,y,test_size=0.3,random_state=1)"
   ]
  },
  {
   "cell_type": "markdown",
   "metadata": {},
   "source": [
    "# LogisticRegression"
   ]
  },
  {
   "cell_type": "code",
   "execution_count": 71,
   "metadata": {},
   "outputs": [
    {
     "name": "stderr",
     "output_type": "stream",
     "text": [
      "C:\\Users\\HP\\Anaconda3\\lib\\site-packages\\sklearn\\linear_model\\logistic.py:432: FutureWarning: Default solver will be changed to 'lbfgs' in 0.22. Specify a solver to silence this warning.\n",
      "  FutureWarning)\n",
      "C:\\Users\\HP\\Anaconda3\\lib\\site-packages\\sklearn\\linear_model\\logistic.py:469: FutureWarning: Default multi_class will be changed to 'auto' in 0.22. Specify the multi_class option to silence this warning.\n",
      "  \"this warning.\", FutureWarning)\n"
     ]
    }
   ],
   "source": [
    "from sklearn.linear_model import LogisticRegression\n",
    "logreg=LogisticRegression()\n",
    "logreg.fit(x_train,y_train)\n",
    "y_pred=logreg.predict(x_test)"
   ]
  },
  {
   "cell_type": "code",
   "execution_count": 72,
   "metadata": {},
   "outputs": [],
   "source": [
    "from sklearn.metrics import accuracy_score"
   ]
  },
  {
   "cell_type": "code",
   "execution_count": 120,
   "metadata": {},
   "outputs": [],
   "source": [
    "from sklearn.metrics import confusion_matrix"
   ]
  },
  {
   "cell_type": "code",
   "execution_count": 73,
   "metadata": {},
   "outputs": [
    {
     "data": {
      "text/plain": [
       "0.8969072164948454"
      ]
     },
     "execution_count": 73,
     "metadata": {},
     "output_type": "execute_result"
    }
   ],
   "source": [
    "accuracy_score(y_pred,y_test)"
   ]
  },
  {
   "cell_type": "code",
   "execution_count": 121,
   "metadata": {},
   "outputs": [],
   "source": [
    "cm = confusion_matrix(y_test, y_pred)"
   ]
  },
  {
   "cell_type": "code",
   "execution_count": 123,
   "metadata": {},
   "outputs": [
    {
     "data": {
      "text/plain": [
       "<matplotlib.axes._subplots.AxesSubplot at 0x1d0ad56c2e8>"
      ]
     },
     "execution_count": 123,
     "metadata": {},
     "output_type": "execute_result"
    },
    {
     "data": {
      "image/png": "[encoded data removed]",
      "text/plain": [
       "<Figure size 432x288 with 2 Axes>"
      ]
     },
     "metadata": {
      "needs_background": "light"
     },
     "output_type": "display_data"
    }
   ],
   "source": [
    "label = [\"0\",\"1\",'2','3']\n",
    "sns.heatmap(cm, annot=True, xticklabels=label, yticklabels=label)"
   ]
  },
  {
   "cell_type": "markdown",
   "metadata": {},
   "source": [
    "# Knn"
   ]
  },
  {
   "cell_type": "code",
   "execution_count": 75,
   "metadata": {},
   "outputs": [],
   "source": [
    "from sklearn.neighbors import KNeighborsClassifier"
   ]
  },
  {
   "cell_type": "code",
   "execution_count": 77,
   "metadata": {},
   "outputs": [
    {
     "name": "stdout",
     "output_type": "stream",
     "text": [
      "1 :  0.9507445589919816\n",
      "2 :  0.9444444444444444\n",
      "3 :  0.9564719358533792\n",
      "4 :  0.9513172966781214\n",
      "5 :  0.95475372279496\n",
      "6 :  0.9536082474226805\n",
      "7 :  0.9558991981672395\n",
      "8 :  0.95475372279496\n",
      "9 :  0.9553264604810997\n",
      "10 :  0.9558991981672395\n",
      "11 :  0.9576174112256587\n",
      "12 :  0.9558991981672395\n",
      "13 :  0.9541809851088202\n",
      "14 :  0.9524627720504009\n",
      "15 :  0.9524627720504009\n",
      "16 :  0.9524627720504009\n",
      "17 :  0.9524627720504009\n",
      "18 :  0.9536082474226805\n",
      "19 :  0.9530355097365406\n",
      "20 :  0.9530355097365406\n",
      "21 :  0.95475372279496\n",
      "22 :  0.9536082474226805\n",
      "23 :  0.9536082474226805\n",
      "24 :  0.9530355097365406\n",
      "25 :  0.9570446735395189\n",
      "26 :  0.9558991981672395\n",
      "27 :  0.9576174112256587\n",
      "28 :  0.9564719358533792\n",
      "29 :  0.9576174112256587\n",
      "30 :  0.9558991981672395\n",
      "31 :  0.9558991981672395\n",
      "32 :  0.9541809851088202\n",
      "33 :  0.9553264604810997\n",
      "34 :  0.9541809851088202\n",
      "35 :  0.9570446735395189\n",
      "36 :  0.9558991981672395\n",
      "37 :  0.9581901489117984\n",
      "38 :  0.9581901489117984\n",
      "39 :  0.9576174112256587\n",
      "40 :  0.9570446735395189\n",
      "41 :  0.9576174112256587\n",
      "42 :  0.9576174112256587\n",
      "43 :  0.9576174112256587\n",
      "44 :  0.9564719358533792\n",
      "45 :  0.9558991981672395\n",
      "46 :  0.9570446735395189\n",
      "47 :  0.9576174112256587\n",
      "48 :  0.9564719358533792\n",
      "49 :  0.9570446735395189\n",
      "50 :  0.9570446735395189\n",
      "51 :  0.9576174112256587\n",
      "52 :  0.9587628865979382\n",
      "53 :  0.9593356242840779\n",
      "54 :  0.9593356242840779\n",
      "55 :  0.9599083619702177\n",
      "56 :  0.9599083619702177\n",
      "57 :  0.9599083619702177\n",
      "58 :  0.9599083619702177\n",
      "59 :  0.9599083619702177\n",
      "60 :  0.9593356242840779\n",
      "61 :  0.9593356242840779\n",
      "62 :  0.9587628865979382\n",
      "63 :  0.9599083619702177\n",
      "64 :  0.9587628865979382\n",
      "65 :  0.9593356242840779\n",
      "66 :  0.9581901489117984\n",
      "67 :  0.9593356242840779\n",
      "68 :  0.9587628865979382\n",
      "69 :  0.9599083619702177\n",
      "70 :  0.9587628865979382\n",
      "71 :  0.9593356242840779\n",
      "72 :  0.9587628865979382\n",
      "73 :  0.9593356242840779\n",
      "74 :  0.9587628865979382\n",
      "75 :  0.9593356242840779\n",
      "76 :  0.9599083619702177\n",
      "77 :  0.9610538373424972\n",
      "78 :  0.9610538373424972\n",
      "79 :  0.9610538373424972\n",
      "80 :  0.9616265750286369\n",
      "81 :  0.9610538373424972\n",
      "82 :  0.9610538373424972\n",
      "83 :  0.9610538373424972\n",
      "84 :  0.9599083619702177\n",
      "85 :  0.9604810996563574\n",
      "86 :  0.9599083619702177\n",
      "87 :  0.9599083619702177\n",
      "88 :  0.9599083619702177\n",
      "89 :  0.9599083619702177\n",
      "90 :  0.9599083619702177\n",
      "91 :  0.9599083619702177\n",
      "92 :  0.9593356242840779\n",
      "93 :  0.9593356242840779\n",
      "94 :  0.9593356242840779\n",
      "95 :  0.9599083619702177\n",
      "96 :  0.9599083619702177\n",
      "97 :  0.9604810996563574\n",
      "98 :  0.9604810996563574\n",
      "99 :  0.9587628865979382\n"
     ]
    }
   ],
   "source": [
    "score=[]\n",
    "for k in range(1,100):\n",
    "    knn=KNeighborsClassifier(n_neighbors=k,weights='uniform')\n",
    "    knn.fit(x_train,y_train)\n",
    "    predKNN=knn.predict(x_test)\n",
    "    accuracy=accuracy_score(predKNN,y_test)\n",
    "    score.append(accuracy*100)\n",
    "    print (k,': ',accuracy)"
   ]
  },
  {
   "cell_type": "code",
   "execution_count": 78,
   "metadata": {},
   "outputs": [
    {
     "name": "stdout",
     "output_type": "stream",
     "text": [
      "80  :  96.16 %\n"
     ]
    }
   ],
   "source": [
    "print(score.index(max(score))+1,' : ',round(max(score),2),'%')"
   ]
  },
  {
   "cell_type": "markdown",
   "metadata": {},
   "source": [
    "# naive_bayes"
   ]
  },
  {
   "cell_type": "code",
   "execution_count": 79,
   "metadata": {},
   "outputs": [],
   "source": [
    "from sklearn.naive_bayes import GaussianNB, BernoulliNB, MultinomialNB"
   ]
  },
  {
   "cell_type": "code",
   "execution_count": 85,
   "metadata": {},
   "outputs": [
    {
     "data": {
      "text/plain": [
       "GaussianNB(priors=None, var_smoothing=1e-09)"
      ]
     },
     "execution_count": 85,
     "metadata": {},
     "output_type": "execute_result"
    }
   ],
   "source": [
    "naiveClassifier=GaussianNB()\n",
    "naiveClassifier.fit(x_train,y_train)"
   ]
  },
  {
   "cell_type": "code",
   "execution_count": 86,
   "metadata": {},
   "outputs": [],
   "source": [
    "y_pred=naiveClassifier.predict(x_test)"
   ]
  },
  {
   "cell_type": "code",
   "execution_count": 87,
   "metadata": {},
   "outputs": [
    {
     "name": "stdout",
     "output_type": "stream",
     "text": [
      "0.9650630011454754\n"
     ]
    }
   ],
   "source": [
    "print(accuracy_score(y_test, y_pred))"
   ]
  },
  {
   "cell_type": "markdown",
   "metadata": {},
   "source": [
    "# Decision Tree"
   ]
  },
  {
   "cell_type": "code",
   "execution_count": 83,
   "metadata": {},
   "outputs": [],
   "source": [
    "from sklearn.tree import DecisionTreeClassifier\n",
    "from sklearn.model_selection import GridSearchCV\n",
    "dtree=DecisionTreeClassifier()"
   ]
  },
  {
   "cell_type": "code",
   "execution_count": 88,
   "metadata": {},
   "outputs": [
    {
     "name": "stdout",
     "output_type": "stream",
     "text": [
      "Best Score: 0.9312714776632303\n",
      "Best params: {'criterion': 'entropy', 'max_depth': 15, 'max_features': 5, 'random_state': 20}\n"
     ]
    }
   ],
   "source": [
    "parameter_grid = {'max_depth': [1, 2, 3, 4, 5,6,5,9,15,20],\n",
    "                  'max_features': [1, 2, 3, 4,5,6,7,8,9],\n",
    "                 'random_state':[0,15,20,35,50,80,100,150,180,200],\n",
    "                 'criterion':['gini','entropy'],\n",
    "                 }\n",
    "\n",
    "grid_search = GridSearchCV(dtree, param_grid = parameter_grid,\n",
    "                          cv =10)\n",
    "\n",
    "grid_search.fit(x_train, y_train)\n",
    "\n",
    "print (\"Best Score: {}\".format(grid_search.best_score_))\n",
    "print (\"Best params: {}\".format(grid_search.best_params_))"
   ]
  },
  {
   "cell_type": "code",
   "execution_count": 90,
   "metadata": {},
   "outputs": [],
   "source": [
    "dtree=DecisionTreeClassifier(max_depth=15,criterion='entropy',max_features=5,random_state=20)"
   ]
  },
  {
   "cell_type": "code",
   "execution_count": 91,
   "metadata": {},
   "outputs": [],
   "source": [
    "dtree.fit(x_train,y_train)\n",
    "pred_Dtree=dtree.predict(x_test)"
   ]
  },
  {
   "cell_type": "code",
   "execution_count": 92,
   "metadata": {},
   "outputs": [
    {
     "name": "stdout",
     "output_type": "stream",
     "text": [
      "Train Accuracy:  92.9553264604811 %\n"
     ]
    }
   ],
   "source": [
    "print('Train Accuracy: ',accuracy_score(y_test, pred_Dtree)*100,'%')"
   ]
  },
  {
   "cell_type": "markdown",
   "metadata": {},
   "source": [
    "# model building with PCA"
   ]
  },
  {
   "cell_type": "code",
   "execution_count": 98,
   "metadata": {},
   "outputs": [],
   "source": [
    "X=pcdf[['pc1','pc2']]"
   ]
  },
  {
   "cell_type": "code",
   "execution_count": 100,
   "metadata": {},
   "outputs": [],
   "source": [
    "Y=pcdf['label']"
   ]
  },
  {
   "cell_type": "code",
   "execution_count": 101,
   "metadata": {},
   "outputs": [],
   "source": [
    "X_train,X_test,Y_train,Y_test=train_test_split(X,Y,test_size=0.2,random_state=1)"
   ]
  },
  {
   "cell_type": "markdown",
   "metadata": {},
   "source": [
    "# log reg"
   ]
  },
  {
   "cell_type": "code",
   "execution_count": 102,
   "metadata": {},
   "outputs": [
    {
     "name": "stderr",
     "output_type": "stream",
     "text": [
      "C:\\Users\\HP\\Anaconda3\\lib\\site-packages\\sklearn\\linear_model\\logistic.py:432: FutureWarning: Default solver will be changed to 'lbfgs' in 0.22. Specify a solver to silence this warning.\n",
      "  FutureWarning)\n",
      "C:\\Users\\HP\\Anaconda3\\lib\\site-packages\\sklearn\\linear_model\\logistic.py:469: FutureWarning: Default multi_class will be changed to 'auto' in 0.22. Specify the multi_class option to silence this warning.\n",
      "  \"this warning.\", FutureWarning)\n"
     ]
    }
   ],
   "source": [
    "logreg.fit(X_train,Y_train)\n",
    "Y_pred=logreg.predict(X_test)"
   ]
  },
  {
   "cell_type": "code",
   "execution_count": 103,
   "metadata": {},
   "outputs": [
    {
     "data": {
      "text/plain": [
       "0.9785223367697594"
      ]
     },
     "execution_count": 103,
     "metadata": {},
     "output_type": "execute_result"
    }
   ],
   "source": [
    "accuracy_score(Y_pred,Y_test)"
   ]
  },
  {
   "cell_type": "markdown",
   "metadata": {},
   "source": [
    "# KNN"
   ]
  },
  {
   "cell_type": "code",
   "execution_count": 105,
   "metadata": {},
   "outputs": [],
   "source": [
    "knn.fit(X_train,Y_train)\n",
    "predKNN=knn.predict(X_test)\n",
    "accuracy=accuracy_score(predKNN,Y_test)"
   ]
  },
  {
   "cell_type": "code",
   "execution_count": 106,
   "metadata": {},
   "outputs": [
    {
     "data": {
      "text/plain": [
       "0.9862542955326461"
      ]
     },
     "execution_count": 106,
     "metadata": {},
     "output_type": "execute_result"
    }
   ],
   "source": [
    "accuracy"
   ]
  },
  {
   "cell_type": "markdown",
   "metadata": {},
   "source": [
    "# naive_bayes"
   ]
  },
  {
   "cell_type": "code",
   "execution_count": 107,
   "metadata": {},
   "outputs": [
    {
     "data": {
      "text/plain": [
       "GaussianNB(priors=None, var_smoothing=1e-09)"
      ]
     },
     "execution_count": 107,
     "metadata": {},
     "output_type": "execute_result"
    }
   ],
   "source": [
    "naiveClassifier.fit(X_train,Y_train)"
   ]
  },
  {
   "cell_type": "code",
   "execution_count": 109,
   "metadata": {},
   "outputs": [],
   "source": [
    "knn_pred=naiveClassifier.predict(X_test)"
   ]
  },
  {
   "cell_type": "code",
   "execution_count": 110,
   "metadata": {},
   "outputs": [
    {
     "name": "stdout",
     "output_type": "stream",
     "text": [
      "0.9639175257731959\n"
     ]
    }
   ],
   "source": [
    "print(accuracy_score(Y_test, knn_pred))"
   ]
  },
  {
   "cell_type": "markdown",
   "metadata": {},
   "source": [
    "# decision tree"
   ]
  },
  {
   "cell_type": "code",
   "execution_count": 113,
   "metadata": {},
   "outputs": [
    {
     "name": "stdout",
     "output_type": "stream",
     "text": [
      "Best Score: 0.9982817869415808\n",
      "Best params: {'criterion': 'gini', 'max_depth': 6, 'max_features': 1, 'random_state': 100}\n"
     ]
    }
   ],
   "source": [
    "parameter_grid = {'max_depth': [1, 2, 3, 4, 5,6,5,9,15,20],\n",
    "                  'max_features': [1, 2],\n",
    "                 'random_state':[0,15,20,35,50,80,100,150,180,200],\n",
    "                 'criterion':['gini','entropy'],\n",
    "                 }\n",
    "\n",
    "grid_search = GridSearchCV(dtree, param_grid = parameter_grid,\n",
    "                          cv =10)\n",
    "\n",
    "grid_search.fit(X_train, Y_train)\n",
    "\n",
    "print (\"Best Score: {}\".format(grid_search.best_score_))\n",
    "print (\"Best params: {}\".format(grid_search.best_params_))"
   ]
  },
  {
   "cell_type": "code",
   "execution_count": 114,
   "metadata": {},
   "outputs": [],
   "source": [
    "dtree=DecisionTreeClassifier(max_depth=6,criterion='gini',max_features=1,random_state=100)"
   ]
  },
  {
   "cell_type": "code",
   "execution_count": 115,
   "metadata": {},
   "outputs": [],
   "source": [
    "dtree.fit(X_train,Y_train)\n",
    "pred_Dtree=dtree.predict(X_test)"
   ]
  },
  {
   "cell_type": "code",
   "execution_count": 117,
   "metadata": {},
   "outputs": [
    {
     "name": "stdout",
     "output_type": "stream",
     "text": [
      "Train Accuracy:  99.39862542955326 %\n"
     ]
    }
   ],
   "source": [
    "print('Train Accuracy: ',accuracy_score(Y_test, pred_Dtree)*100,'%')"
   ]
  },
  {
   "cell_type": "markdown",
   "metadata": {},
   "source": [
    "# model comparision"
   ]
  },
  {
   "cell_type": "code",
   "execution_count": 119,
   "metadata": {},
   "outputs": [
    {
     "data": {
      "text/html": [
       "<div>\n",
       "<style scoped>\n",
       "    .dataframe tbody tr th:only-of-type {\n",
       "        vertical-align: middle;\n",
       "    }\n",
       "\n",
       "    .dataframe tbody tr th {\n",
       "        vertical-align: top;\n",
       "    }\n",
       "\n",
       "    .dataframe thead th {\n",
       "        text-align: right;\n",
       "    }\n",
       "</style>\n",
       "<table border=\"1\" class=\"dataframe\">\n",
       "  <thead>\n",
       "    <tr style=\"text-align: right;\">\n",
       "      <th></th>\n",
       "      <th>TYPE</th>\n",
       "      <th>LOG REG</th>\n",
       "      <th>KNN</th>\n",
       "      <th>NAIVE_BAYES</th>\n",
       "      <th>DECISION TREE</th>\n",
       "    </tr>\n",
       "  </thead>\n",
       "  <tbody>\n",
       "    <tr>\n",
       "      <th>0</th>\n",
       "      <td>WITH OUT PCA</td>\n",
       "      <td>89</td>\n",
       "      <td>96</td>\n",
       "      <td>96</td>\n",
       "      <td>92</td>\n",
       "    </tr>\n",
       "    <tr>\n",
       "      <th>1</th>\n",
       "      <td>PCA</td>\n",
       "      <td>97</td>\n",
       "      <td>98</td>\n",
       "      <td>96</td>\n",
       "      <td>99</td>\n",
       "    </tr>\n",
       "  </tbody>\n",
       "</table>\n",
       "</div>"
      ],
      "text/plain": [
       "           TYPE  LOG REG  KNN  NAIVE_BAYES  DECISION TREE\n",
       "0  WITH OUT PCA       89   96           96             92\n",
       "1           PCA       97   98           96             99"
      ]
     },
     "execution_count": 119,
     "metadata": {},
     "output_type": "execute_result"
    }
   ],
   "source": [
    "data={'TYPE':['WITH OUT PCA','PCA'],'LOG REG':[89,97],'KNN':[96,98],\"NAIVE_BAYES\":[96,96],\n",
    "      'DECISION TREE':[92,99]}\n",
    "final_df=pd.DataFrame(data,columns=['TYPE','LOG REG','KNN','NAIVE_BAYES','DECISION TREE'])\n",
    "final_df"
   ]
  },
  {
   "cell_type": "markdown",
   "metadata": {},
   "source": [
    "from the above dataframe we can easily interprate that we got more accuracy for the PCA applied data. \n"
   ]
  },
  {
   "cell_type": "markdown",
   "metadata": {},
   "source": [
    "with out PCA data we have more accuracy uin case of KNN and NAIVE_BAYES model."
   ]
  },
  {
   "cell_type": "markdown",
   "metadata": {},
   "source": [
    "\n",
    "with PCA applied data we almost same accuracy with  every model but we got the most accuracy in decision tree model. "
   ]
  },
  {
   "cell_type": "markdown",
   "metadata": {},
   "source": [
    "so our final model is decision tree with PCA applied data "
   ]
  },
  {
   "cell_type": "markdown",
   "metadata": {},
   "source": [
    "in that model with the help of GridSearchCV we found the best parameter for our model"
   ]
  },
  {
   "cell_type": "markdown",
   "metadata": {},
   "source": [
    "fitted  our data in taht model and got 99.82% accuracy"
   ]
  },
  {
   "cell_type": "code",
   "execution_count": null,
   "metadata": {},
   "outputs": [],
   "source": []
  }
 ],
 "metadata": {
  "kernelspec": {
   "display_name": "Python 3",
   "language": "python",
   "name": "python3"
  },
  "language_info": {
   "codemirror_mode": {
    "name": "ipython",
    "version": 3
   },
   "file_extension": ".py",
   "mimetype": "text/x-python",
   "name": "python",
   "nbconvert_exporter": "python",
   "pygments_lexer": "ipython3",
   "version": "3.7.3"
  }
 },
 "nbformat": 4,
 "nbformat_minor": 2
}
